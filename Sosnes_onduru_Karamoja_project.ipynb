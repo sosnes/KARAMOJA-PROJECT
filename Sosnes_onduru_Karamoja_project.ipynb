{
  "nbformat": 4,
  "nbformat_minor": 0,
  "metadata": {
    "colab": {
      "provenance": [],
      "authorship_tag": "ABX9TyPECI8BVsi7UZAH5oEL6Zrh",
      "include_colab_link": true
    },
    "kernelspec": {
      "name": "python3",
      "display_name": "Python 3"
    },
    "language_info": {
      "name": "python"
    }
  },
  "cells": [
    {
      "cell_type": "markdown",
      "metadata": {
        "id": "view-in-github",
        "colab_type": "text"
      },
      "source": [
        "<a href=\"https://colab.research.google.com/github/sosnes/KARAMOJA-PROJECT/blob/master/Sosnes_onduru_Karamoja_project.ipynb\" target=\"_parent\"><img src=\"https://colab.research.google.com/assets/colab-badge.svg\" alt=\"Open In Colab\"/></a>"
      ]
    },
    {
      "cell_type": "markdown",
      "source": [],
      "metadata": {
        "id": "443mXMcVT_3N"
      }
    },
    {
      "cell_type": "markdown",
      "source": [
        "# ***KARAMOJA END PHASE PROJECCT***"
      ],
      "metadata": {
        "id": "J155UpQQUBf9"
      }
    },
    {
      "cell_type": "markdown",
      "source": [
        "![sos.jfif](data:image/jpeg;base64,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)"
      ],
      "metadata": {
        "id": "Z5HKMIeakld3"
      }
    },
    {
      "cell_type": "markdown",
      "source": [
        "# **INTRODUCTION**"
      ],
      "metadata": {
        "id": "jpSP1nmYVFmL"
      }
    },
    {
      "cell_type": "markdown",
      "source": [
        "The Karamoja sub-region, commonly known as Karamoja, is a region in Uganda. It covers an area of 27,528km and comprises the Kotido District, Kaabong District, Karenga District, Nabilatuk District, Abim District, Moroto District, Napak District, Amudat District and Nakapiripirit District."
      ],
      "metadata": {
        "id": "u1ddeLB9VinW"
      }
    },
    {
      "cell_type": "markdown",
      "source": [
        "BUSINESS OVERVIEW\n",
        "\n",
        "\n",
        "\n",
        "Dalberg Data Insights (DDI) is collaborating with NGOs in Karamoja to enhance food security monitoring through data-driven insights. The methodology developed by DDI’s agri-tech team involves using satellite images to estimate crop yields for sorghum and maize, the two main staple crops in the region. The model has already been tested for the 2017 crop season, providing a foundation for further development.\n",
        "\n",
        "The next step in this initiative is to create an interactive visualizations"
      ],
      "metadata": {
        "id": "WqSB_lVUQPG1"
      }
    },
    {
      "cell_type": "markdown",
      "source": [
        "\n",
        "\n",
        "\n",
        "\n",
        "\n",
        "DATA UNDERSTANDING\n",
        "\n",
        "In the two datasets that i will use that is:\n",
        "\n",
        "Karamoja district crop yield population\n",
        "\n",
        "Karamoja subcounty crop yield population\n",
        "\n",
        "we will find that the data is both categorical and numerical. During my data cleaning because of the data nature i will use both mean and mode for filling the missing values by the .fillna() method.\n",
        "\n",
        "Below are the components of the above data:\n",
        "\n",
        "Subcounty name\n",
        "\n",
        "District name\n",
        "\n",
        "POP: total population for the subcounty\n",
        "\n",
        "Area\n",
        "\n",
        "S_Yield_Ha: average yield for"
      ],
      "metadata": {
        "id": "YTMO4M0oQv9X"
      }
    },
    {
      "cell_type": "markdown",
      "source": [],
      "metadata": {
        "id": "LbyIoFENRsS5"
      }
    },
    {
      "cell_type": "markdown",
      "source": [
        "**IMPORTATION OF LIBRARIES**"
      ],
      "metadata": {
        "id": "i5vCWh9sn6dH"
      }
    },
    {
      "cell_type": "markdown",
      "source": [
        "\n",
        "\n",
        "First we begin by importing various libraries using the codes below."
      ],
      "metadata": {
        "id": "Aciwdfs1Vowp"
      }
    },
    {
      "cell_type": "code",
      "source": [
        "import numpy as np\n",
        "import pandas as pd"
      ],
      "metadata": {
        "id": "qGvPnYtByOba"
      },
      "execution_count": null,
      "outputs": []
    },
    {
      "cell_type": "markdown",
      "source": [
        "\n",
        "**LOADING DATA**"
      ],
      "metadata": {
        "id": "SuJGxBltoONR"
      }
    },
    {
      "cell_type": "markdown",
      "source": [
        "\n",
        "\n",
        "These lines of code load two different datasets into pandas DataFrames with the first column of each CSV file serving as the row index. After this, you can manipulate, analyze, and visualize the data in df1 and df2 as needed for your project."
      ],
      "metadata": {
        "id": "zhHfPrJVWqar"
      }
    },
    {
      "cell_type": "code",
      "source": [
        " df1 = pd.read_csv('/content/Uganda_Karamoja_District_Crop_Yield_Population.csv', index_col=0)\n",
        "df2 = pd.read_csv('/content/Uganda_Karamoja_Subcounty_Crop_Yield_Population.csv', index_col=0)\n"
      ],
      "metadata": {
        "id": "jKdnDpwaybKJ"
      },
      "execution_count": null,
      "outputs": []
    },
    {
      "cell_type": "markdown",
      "source": [
        "**THE SHAPE TO OUR DATAFRAME**"
      ],
      "metadata": {
        "id": "wxD78AGEocMx"
      }
    },
    {
      "cell_type": "markdown",
      "source": [
        "\n",
        "\n",
        "If you run [df1.shape, df2.shape], you will get a list containing the shape of both DataFrames. This helps in quickly understanding the size of your datasets."
      ],
      "metadata": {
        "id": "fFlGmjmtXECn"
      }
    },
    {
      "cell_type": "code",
      "source": [
        "[df1.shape,df2.shape]"
      ],
      "metadata": {
        "colab": {
          "base_uri": "https://localhost:8080/"
        },
        "id": "hzl3Eu-jGpkh",
        "outputId": "5744381a-a735-4502-9365-289f6453f6b5"
      },
      "execution_count": null,
      "outputs": [
        {
          "output_type": "execute_result",
          "data": {
            "text/plain": [
              "[(7, 10), (52, 12)]"
            ]
          },
          "metadata": {},
          "execution_count": 4
        }
      ]
    },
    {
      "cell_type": "markdown",
      "source": [],
      "metadata": {
        "id": "zC8K1DCyXdj_"
      }
    },
    {
      "cell_type": "markdown",
      "source": [
        "**VIEWING THE DATA**"
      ],
      "metadata": {
        "id": "4uoeIwFNopCE"
      }
    },
    {
      "cell_type": "markdown",
      "source": [
        "\n",
        "\n",
        "These commands provide an initial overview of the data in df1 and df2. You get insights into the structure, data types, presence of missing values, and the statistical distribution of numerical columns. This is a standard procedure when starting any analysis to understand the content and quality of the datasets."
      ],
      "metadata": {
        "id": "VgF9uNBBXeob"
      }
    },
    {
      "cell_type": "code",
      "source": [
        "# Check the first few rows of each DataFrame\n",
        "print(df1.head())\n",
        "print(df2.head())\n",
        "\n",
        "# Get information about the data (column names, data types, non-null counts)\n",
        "print(df1.info())\n",
        "print(df2.info())\n",
        "\n",
        "# Check for missing values\n",
        "print(df1.isnull().sum())\n",
        "print(df2.isnull().sum())\n",
        "\n",
        "# Describe the statistics of the numerical columns\n",
        "print(df1.describe())\n",
        "print(df2.describe())\n"
      ],
      "metadata": {
        "colab": {
          "base_uri": "https://localhost:8080/"
        },
        "id": "J-kcXENh0gvC",
        "outputId": "667e9e65-51a0-42b5-f51b-22567df59763"
      },
      "execution_count": null,
      "outputs": [
        {
          "output_type": "stream",
          "name": "stdout",
          "text": [
            "             NAME     POP        Area  S_Yield_Ha  M_Yield_Ha  Crop_Area_Ha  \\\n",
            "OBJECTID                                                                      \n",
            "92           ABIM   90385  2771977106         449        1040   5470.068394   \n",
            "96         AMUDAT  101790  1643582836         205        1297   5765.443719   \n",
            "20        KAABONG  627057  7373606003         279         945  28121.672530   \n",
            "85         KOTIDO  243157  3641539808         331        1148  53032.649450   \n",
            "5          MOROTO  127811  3570160948         128         355   5954.814048   \n",
            "\n",
            "             S_Area_Ha    M_Area_Ha  S_Prod_Tot  M_Prod_Tot  \n",
            "OBJECTID                                                     \n",
            "92         3277.295971  1848.621855     1471506     1922567  \n",
            "96         2973.423860  2733.661014      609552     3545558  \n",
            "20        20544.194960  7394.416334     5731830     6987723  \n",
            "85        50247.443900  1751.372284    16631904     2010575  \n",
            "5          4741.748776  1190.050606      606944      422468  \n",
            "               SUBCOUNTY_NAME DISTRICT_NAME    POP        Area Karamoja  \\\n",
            "OBJECTID                                                                  \n",
            "263                   KACHERI        KOTIDO  17244  1067176155        Y   \n",
            "264                    KOTIDO        KOTIDO  52771   597575188        Y   \n",
            "265       KOTIDO TOWN COUNCIL        KOTIDO  27389    23972401        Y   \n",
            "266              NAKAPERIMORU        KOTIDO  38775   419111591        Y   \n",
            "267                PANYANGARA        KOTIDO  65704   880955930        Y   \n",
            "\n",
            "          S_Yield_Ha   M_Yield_Ha  Crop_Area_Ha     S_Area_Ha   M_Area_Ha  \\\n",
            "OBJECTID                                                                    \n",
            "263       354.207411  1137.467019   7023.533691   6434.342449  528.124229   \n",
            "264       367.890523  1162.996687  13587.990760  12455.592640  824.767081   \n",
            "265       369.314177  1167.005832   1656.531855   1520.322052    8.561644   \n",
            "266       283.324569   852.366578   7087.823334   6761.488901   45.721712   \n",
            "267       373.836926  1283.859882  10398.249390  10111.198130  172.611914   \n",
            "\n",
            "            S_Prod_Tot     M_Prod_Tot  \n",
            "OBJECTID                               \n",
            "263       2.279092e+06  600723.892900  \n",
            "264       4.582294e+06  959201.382500  \n",
            "265       5.614765e+05    9991.488268  \n",
            "266       1.915696e+06   38971.659080  \n",
            "267       3.779939e+06  221609.511400  \n",
            "<class 'pandas.core.frame.DataFrame'>\n",
            "Index: 7 entries, 92 to 80\n",
            "Data columns (total 10 columns):\n",
            " #   Column        Non-Null Count  Dtype  \n",
            "---  ------        --------------  -----  \n",
            " 0   NAME          7 non-null      object \n",
            " 1   POP           7 non-null      int64  \n",
            " 2   Area          7 non-null      int64  \n",
            " 3   S_Yield_Ha    7 non-null      int64  \n",
            " 4   M_Yield_Ha    7 non-null      int64  \n",
            " 5   Crop_Area_Ha  7 non-null      float64\n",
            " 6   S_Area_Ha     7 non-null      float64\n",
            " 7   M_Area_Ha     7 non-null      float64\n",
            " 8   S_Prod_Tot    7 non-null      int64  \n",
            " 9   M_Prod_Tot    7 non-null      int64  \n",
            "dtypes: float64(3), int64(6), object(1)\n",
            "memory usage: 616.0+ bytes\n",
            "None\n",
            "<class 'pandas.core.frame.DataFrame'>\n",
            "Index: 52 entries, 263 to 1320\n",
            "Data columns (total 12 columns):\n",
            " #   Column          Non-Null Count  Dtype  \n",
            "---  ------          --------------  -----  \n",
            " 0   SUBCOUNTY_NAME  52 non-null     object \n",
            " 1   DISTRICT_NAME   52 non-null     object \n",
            " 2   POP             52 non-null     int64  \n",
            " 3   Area            52 non-null     int64  \n",
            " 4   Karamoja        52 non-null     object \n",
            " 5   S_Yield_Ha      52 non-null     float64\n",
            " 6   M_Yield_Ha      52 non-null     float64\n",
            " 7   Crop_Area_Ha    52 non-null     float64\n",
            " 8   S_Area_Ha       52 non-null     float64\n",
            " 9   M_Area_Ha       52 non-null     float64\n",
            " 10  S_Prod_Tot      52 non-null     float64\n",
            " 11  M_Prod_Tot      52 non-null     float64\n",
            "dtypes: float64(7), int64(2), object(3)\n",
            "memory usage: 5.3+ KB\n",
            "None\n",
            "NAME            0\n",
            "POP             0\n",
            "Area            0\n",
            "S_Yield_Ha      0\n",
            "M_Yield_Ha      0\n",
            "Crop_Area_Ha    0\n",
            "S_Area_Ha       0\n",
            "M_Area_Ha       0\n",
            "S_Prod_Tot      0\n",
            "M_Prod_Tot      0\n",
            "dtype: int64\n",
            "SUBCOUNTY_NAME    0\n",
            "DISTRICT_NAME     0\n",
            "POP               0\n",
            "Area              0\n",
            "Karamoja          0\n",
            "S_Yield_Ha        0\n",
            "M_Yield_Ha        0\n",
            "Crop_Area_Ha      0\n",
            "S_Area_Ha         0\n",
            "M_Area_Ha         0\n",
            "S_Prod_Tot        0\n",
            "M_Prod_Tot        0\n",
            "dtype: int64\n",
            "                 POP          Area  S_Yield_Ha   M_Yield_Ha  Crop_Area_Ha  \\\n",
            "count       7.000000  7.000000e+00    7.000000     7.000000      7.000000   \n",
            "mean   214943.571429  3.960853e+09  269.285714   986.142857  21094.520379   \n",
            "std    188604.280916  1.781860e+09  119.243049   321.566700  17363.854165   \n",
            "min     90385.000000  1.643583e+09  128.000000   355.000000   5470.068394   \n",
            "25%    114800.500000  3.171069e+09  171.000000   899.500000   5860.128883   \n",
            "50%    146780.000000  3.641540e+09  279.000000  1040.000000  22944.296020   \n",
            "75%    205391.000000  4.362553e+09  343.500000  1206.000000  27247.185510   \n",
            "max    627057.000000  7.373606e+09  449.000000  1297.000000  53032.649450   \n",
            "\n",
            "          S_Area_Ha    M_Area_Ha    S_Prod_Tot    M_Prod_Tot  \n",
            "count      7.000000     7.000000  7.000000e+00  7.000000e+00  \n",
            "mean   16737.636651  3983.947082  4.873098e+06  4.085632e+06  \n",
            "std    16625.963460  2678.911441  5.743724e+06  2.877188e+06  \n",
            "min     2973.423860  1190.050606  6.069440e+05  4.224680e+05  \n",
            "25%     4009.522373  1799.997070  1.040529e+06  1.966571e+06  \n",
            "50%    16142.015880  2733.661014  2.211456e+06  3.545558e+06  \n",
            "75%    19890.764085  6484.753740  6.290160e+06  6.288030e+06  \n",
            "max    50247.443900  7394.416334  1.663190e+07  8.122197e+06  \n",
            "                 POP          Area  S_Yield_Ha   M_Yield_Ha  Crop_Area_Ha  \\\n",
            "count      52.000000  5.200000e+01   52.000000    52.000000     52.000000   \n",
            "mean    28934.692308  5.331913e+08  274.165405   940.259552   2839.646974   \n",
            "std     20865.122974  4.913308e+08  118.569907   321.641901   3110.505917   \n",
            "min      1418.000000  2.121209e+06  108.156411     0.000000      0.171390   \n",
            "25%     16558.500000  1.568923e+08  173.034066   743.075879    964.876031   \n",
            "50%     23053.500000  3.848356e+08  277.255206  1016.684002   1654.265138   \n",
            "75%     39461.000000  7.749029e+08  368.246437  1203.548665   3267.564651   \n",
            "max    100919.000000  2.069555e+09  560.313070  1396.991494  13587.990760   \n",
            "\n",
            "          S_Area_Ha    M_Area_Ha    S_Prod_Tot    M_Prod_Tot  \n",
            "count     52.000000    52.000000  5.200000e+01  5.200000e+01  \n",
            "mean    2253.143395   536.300569  6.557443e+05  5.500730e+05  \n",
            "std     2954.355858   724.092288  9.915839e+05  7.939707e+05  \n",
            "min        0.130941     0.000000  1.728126e+01  0.000000e+00  \n",
            "25%      405.394759    79.821743  1.210555e+05  6.087012e+04  \n",
            "50%     1231.824456   326.479336  2.543687e+05  2.896239e+05  \n",
            "75%     2429.985069   740.296675  6.040942e+05  8.114574e+05  \n",
            "max    12964.499730  3840.698081  4.582294e+06  4.365058e+06  \n"
          ]
        }
      ]
    },
    {
      "cell_type": "markdown",
      "source": [
        "**COMBINING DATASETS**"
      ],
      "metadata": {
        "id": "pZlnV6EFo4P9"
      }
    },
    {
      "cell_type": "markdown",
      "source": [
        "\n",
        "\n",
        "\n",
        "This code is useful when you need to combine two datasets but aren't sure if they have columns in common. It automatically detects common columns and merges the datasets, allowing you to consolidate related data.\n",
        "\n",
        "\n",
        "Example Scenario:\n",
        "\n",
        "*Suppose df1 contains district-level data, and df2 contains subcounty-level data, and both DataFrames have a column called \"district_name\". This code will find that column and merge the two DataFrames based on it. If the column doesn't exist in both DataFrames, it will notify you that no common columns were found."
      ],
      "metadata": {
        "id": "_Gc2aSmEX9Pl"
      }
    },
    {
      "cell_type": "code",
      "source": [
        "# Checking for common columns that could be used for merging\n",
        "common_columns = list(set(df1.columns).intersection(set(df2.columns)))\n",
        "\n",
        "if common_columns:\n",
        "    print(f\"Common columns: {common_columns}\")\n",
        "\n",
        "    # Use the first common column for merging (modify if you have a preferred column)\n",
        "    key_column = common_columns[0]\n",
        "\n",
        "    # Merging the datasets on the common key column\n",
        "    merged_df = pd.merge(df1, df2, on=key_column, how='inner')\n",
        "\n",
        "    # Display the first few rows of the merged dataset\n",
        "    print(f\"DataFrames merged successfully on column: {key_column}\")\n",
        "    print(merged_df.head())\n",
        "else:\n",
        "    print(\"No common columns found for merging.\")\n"
      ],
      "metadata": {
        "colab": {
          "base_uri": "https://localhost:8080/"
        },
        "id": "PvmRlcxO1L8O",
        "outputId": "25a138ca-8b73-44f2-cc89-e833999dfd22"
      },
      "execution_count": null,
      "outputs": [
        {
          "output_type": "stream",
          "name": "stdout",
          "text": [
            "Common columns: ['M_Prod_Tot', 'S_Yield_Ha', 'S_Area_Ha', 'S_Prod_Tot', 'M_Yield_Ha', 'POP', 'Crop_Area_Ha', 'Area', 'M_Area_Ha']\n",
            "DataFrames merged successfully on column: M_Prod_Tot\n",
            "Empty DataFrame\n",
            "Columns: [NAME, POP_x, Area_x, S_Yield_Ha_x, M_Yield_Ha_x, Crop_Area_Ha_x, S_Area_Ha_x, M_Area_Ha_x, S_Prod_Tot_x, M_Prod_Tot, SUBCOUNTY_NAME, DISTRICT_NAME, POP_y, Area_y, Karamoja, S_Yield_Ha_y, M_Yield_Ha_y, Crop_Area_Ha_y, S_Area_Ha_y, M_Area_Ha_y, S_Prod_Tot_y]\n",
            "Index: []\n",
            "\n",
            "[0 rows x 21 columns]\n"
          ]
        },
        {
          "output_type": "stream",
          "name": "stderr",
          "text": [
            "<ipython-input-6-5b82867581e8>:11: UserWarning: You are merging on int and float columns where the float values are not equal to their int representation.\n",
            "  merged_df = pd.merge(df1, df2, on=key_column, how='inner')\n"
          ]
        }
      ]
    },
    {
      "cell_type": "markdown",
      "source": [
        "**FIRST 5  ROWS**"
      ],
      "metadata": {
        "id": "5gRFXJNFpEkn"
      }
    },
    {
      "cell_type": "markdown",
      "source": [
        "\n",
        "\n",
        "Running this code will display the first 5 rows of the combined DataFrame. If there are columns that don't have corresponding values across the DataFrames, you will see NaN where data is missing."
      ],
      "metadata": {
        "id": "ZI-TfqvzZkoO"
      }
    },
    {
      "cell_type": "code",
      "source": [
        "# Combining the DataFrames using an outer join\n",
        "combined_df = pd.merge(df1, df2, how='outer')\n",
        "\n",
        "# Display the first few rows of the combined DataFrame\n",
        "print(combined_df.head())\n"
      ],
      "metadata": {
        "colab": {
          "base_uri": "https://localhost:8080/"
        },
        "id": "sCoHgGnWY_Q7",
        "outputId": "89e56465-0990-4399-ae5c-9dc6b1b5f20d"
      },
      "execution_count": null,
      "outputs": [
        {
          "output_type": "stream",
          "name": "stdout",
          "text": [
            "      NAME     POP        Area  S_Yield_Ha  M_Yield_Ha  Crop_Area_Ha  \\\n",
            "0     ABIM   90385  2771977106       449.0      1040.0   5470.068394   \n",
            "1   AMUDAT  101790  1643582836       205.0      1297.0   5765.443719   \n",
            "2  KAABONG  627057  7373606003       279.0       945.0  28121.672530   \n",
            "3   KOTIDO  243157  3641539808       331.0      1148.0  53032.649450   \n",
            "4   MOROTO  127811  3570160948       128.0       355.0   5954.814048   \n",
            "\n",
            "      S_Area_Ha    M_Area_Ha  S_Prod_Tot  M_Prod_Tot SUBCOUNTY_NAME  \\\n",
            "0   3277.295971  1848.621855   1471506.0   1922567.0            NaN   \n",
            "1   2973.423860  2733.661014    609552.0   3545558.0            NaN   \n",
            "2  20544.194960  7394.416334   5731830.0   6987723.0            NaN   \n",
            "3  50247.443900  1751.372284  16631904.0   2010575.0            NaN   \n",
            "4   4741.748776  1190.050606    606944.0    422468.0            NaN   \n",
            "\n",
            "  DISTRICT_NAME Karamoja  \n",
            "0           NaN      NaN  \n",
            "1           NaN      NaN  \n",
            "2           NaN      NaN  \n",
            "3           NaN      NaN  \n",
            "4           NaN      NaN  \n"
          ]
        },
        {
          "output_type": "stream",
          "name": "stderr",
          "text": [
            "<ipython-input-7-4d6c505bc128>:2: UserWarning: You are merging on int and float columns where the float values are not equal to their int representation.\n",
            "  combined_df = pd.merge(df1, df2, how='outer')\n"
          ]
        }
      ]
    },
    {
      "cell_type": "markdown",
      "source": [
        "**MISSING DATA**"
      ],
      "metadata": {
        "id": "9w1hbXi7pSF3"
      }
    },
    {
      "cell_type": "markdown",
      "source": [],
      "metadata": {
        "id": "nCIKoXvPpSCl"
      }
    },
    {
      "cell_type": "markdown",
      "source": [
        "\n",
        "\n",
        "This approach is useful when you have missing data in numeric columns, and you want to replace those missing values with a sensible estimate (in this case, the mean of the column).\n",
        "\n"
      ],
      "metadata": {
        "id": "3zMl4bv5Z_oZ"
      }
    },
    {
      "cell_type": "code",
      "source": [
        "# filling the missing values in the column region with mean for numeric value\n",
        "numeric_columns = combined_df.select_dtypes(include=[np.number]).columns\n",
        "combined_df[numeric_columns] = combined_df[numeric_columns].fillna(combined_df[numeric_columns].mean())"
      ],
      "metadata": {
        "id": "CtVYV6a0HY-o"
      },
      "execution_count": null,
      "outputs": []
    },
    {
      "cell_type": "markdown",
      "source": [
        "\n",
        "\n",
        "This approach works well for categorical or object-type data. If a column has multiple modes (i.e., more than one value appears with the highest frequency), mode().iloc[0] will return the first mode."
      ],
      "metadata": {
        "id": "Ynq6M2fcdbgw"
      }
    },
    {
      "cell_type": "code",
      "source": [
        "# filling missing values for non-numeric columns\n",
        "non_numeric_columns = combined_df.select_dtypes(exclude=[np.number]).columns\n",
        "combined_df[non_numeric_columns] = combined_df[non_numeric_columns].fillna(combined_df[non_numeric_columns].mode().iloc[0])"
      ],
      "metadata": {
        "id": "37uSPecWHe-z"
      },
      "execution_count": null,
      "outputs": []
    },
    {
      "cell_type": "markdown",
      "source": [
        "**HANDLING MISSING VALUES**"
      ],
      "metadata": {
        "id": "stiTHm7ppp47"
      }
    },
    {
      "cell_type": "markdown",
      "source": [
        "\n",
        "\n",
        "The purpose of the code is to handle missing values in non-numeric columns of a DataFrame by replacing them with the most frequent value (the mode) for each column.\n",
        "\n",
        "When dealing with datasets that have missing data, especially in non-numeric columns (e.g., strings, categories), imputing missing values is necessary to ensure the dataset is complete and can be used for further analysis or modeling. Filling the missing values with the mode helps maintain the most common characteristic in the data, which can be more representative than arbitrary methods like filling with a placeholder or dropping rows.\n",
        "\n",
        "This technique is particularly useful in situations where non-numeric columns represent categorical data, like customer preferences, product categories, or any other attribute with a finite set of"
      ],
      "metadata": {
        "id": "3n16eHvpd5ZU"
      }
    },
    {
      "cell_type": "code",
      "source": [
        "# saving the combined dataset\n",
        "combined_df.to_csv('Karamoja_combined_df.csv', index=False)"
      ],
      "metadata": {
        "id": "Xk1OOdZhHsX3"
      },
      "execution_count": null,
      "outputs": []
    },
    {
      "cell_type": "markdown",
      "source": [
        "**VIEWING THE DATASET**"
      ],
      "metadata": {
        "id": "676Um71Hp5um"
      }
    },
    {
      "cell_type": "markdown",
      "source": [
        "\n",
        "\n",
        "This is generally done as an initial step after loading data to understand what the dataset looks like and to ensure the read operation worked as expected."
      ],
      "metadata": {
        "id": "bJ7s6xuCeOFV"
      }
    },
    {
      "cell_type": "code",
      "source": [
        "df3=pd.read_csv('/content/Karamoja_combined_df.csv')\n",
        "df3.head()"
      ],
      "metadata": {
        "colab": {
          "base_uri": "https://localhost:8080/",
          "height": 206
        },
        "id": "2canhXELIR1f",
        "outputId": "654a2718-6b31-4122-bd86-afd95d7a5819"
      },
      "execution_count": null,
      "outputs": [
        {
          "output_type": "execute_result",
          "data": {
            "text/plain": [
              "      NAME     POP        Area  S_Yield_Ha  M_Yield_Ha  Crop_Area_Ha  \\\n",
              "0     ABIM   90385  2771977106       449.0      1040.0   5470.068394   \n",
              "1   AMUDAT  101790  1643582836       205.0      1297.0   5765.443719   \n",
              "2  KAABONG  627057  7373606003       279.0       945.0  28121.672530   \n",
              "3   KOTIDO  243157  3641539808       331.0      1148.0  53032.649450   \n",
              "4   MOROTO  127811  3570160948       128.0       355.0   5954.814048   \n",
              "\n",
              "      S_Area_Ha    M_Area_Ha  S_Prod_Tot  M_Prod_Tot SUBCOUNTY_NAME  \\\n",
              "0   3277.295971  1848.621855   1471506.0   1922567.0           ABIM   \n",
              "1   2973.423860  2733.661014    609552.0   3545558.0           ABIM   \n",
              "2  20544.194960  7394.416334   5731830.0   6987723.0           ABIM   \n",
              "3  50247.443900  1751.372284  16631904.0   2010575.0           ABIM   \n",
              "4   4741.748776  1190.050606    606944.0    422468.0           ABIM   \n",
              "\n",
              "  DISTRICT_NAME Karamoja  \n",
              "0       KAABONG        Y  \n",
              "1       KAABONG        Y  \n",
              "2       KAABONG        Y  \n",
              "3       KAABONG        Y  \n",
              "4       KAABONG        Y  "
            ],
            "text/html": [
              "\n",
              "  <div id=\"df-d3490fc1-a479-4a1b-9b7a-0631cab29792\" class=\"colab-df-container\">\n",
              "    <div>\n",
              "<style scoped>\n",
              "    .dataframe tbody tr th:only-of-type {\n",
              "        vertical-align: middle;\n",
              "    }\n",
              "\n",
              "    .dataframe tbody tr th {\n",
              "        vertical-align: top;\n",
              "    }\n",
              "\n",
              "    .dataframe thead th {\n",
              "        text-align: right;\n",
              "    }\n",
              "</style>\n",
              "<table border=\"1\" class=\"dataframe\">\n",
              "  <thead>\n",
              "    <tr style=\"text-align: right;\">\n",
              "      <th></th>\n",
              "      <th>NAME</th>\n",
              "      <th>POP</th>\n",
              "      <th>Area</th>\n",
              "      <th>S_Yield_Ha</th>\n",
              "      <th>M_Yield_Ha</th>\n",
              "      <th>Crop_Area_Ha</th>\n",
              "      <th>S_Area_Ha</th>\n",
              "      <th>M_Area_Ha</th>\n",
              "      <th>S_Prod_Tot</th>\n",
              "      <th>M_Prod_Tot</th>\n",
              "      <th>SUBCOUNTY_NAME</th>\n",
              "      <th>DISTRICT_NAME</th>\n",
              "      <th>Karamoja</th>\n",
              "    </tr>\n",
              "  </thead>\n",
              "  <tbody>\n",
              "    <tr>\n",
              "      <th>0</th>\n",
              "      <td>ABIM</td>\n",
              "      <td>90385</td>\n",
              "      <td>2771977106</td>\n",
              "      <td>449.0</td>\n",
              "      <td>1040.0</td>\n",
              "      <td>5470.068394</td>\n",
              "      <td>3277.295971</td>\n",
              "      <td>1848.621855</td>\n",
              "      <td>1471506.0</td>\n",
              "      <td>1922567.0</td>\n",
              "      <td>ABIM</td>\n",
              "      <td>KAABONG</td>\n",
              "      <td>Y</td>\n",
              "    </tr>\n",
              "    <tr>\n",
              "      <th>1</th>\n",
              "      <td>AMUDAT</td>\n",
              "      <td>101790</td>\n",
              "      <td>1643582836</td>\n",
              "      <td>205.0</td>\n",
              "      <td>1297.0</td>\n",
              "      <td>5765.443719</td>\n",
              "      <td>2973.423860</td>\n",
              "      <td>2733.661014</td>\n",
              "      <td>609552.0</td>\n",
              "      <td>3545558.0</td>\n",
              "      <td>ABIM</td>\n",
              "      <td>KAABONG</td>\n",
              "      <td>Y</td>\n",
              "    </tr>\n",
              "    <tr>\n",
              "      <th>2</th>\n",
              "      <td>KAABONG</td>\n",
              "      <td>627057</td>\n",
              "      <td>7373606003</td>\n",
              "      <td>279.0</td>\n",
              "      <td>945.0</td>\n",
              "      <td>28121.672530</td>\n",
              "      <td>20544.194960</td>\n",
              "      <td>7394.416334</td>\n",
              "      <td>5731830.0</td>\n",
              "      <td>6987723.0</td>\n",
              "      <td>ABIM</td>\n",
              "      <td>KAABONG</td>\n",
              "      <td>Y</td>\n",
              "    </tr>\n",
              "    <tr>\n",
              "      <th>3</th>\n",
              "      <td>KOTIDO</td>\n",
              "      <td>243157</td>\n",
              "      <td>3641539808</td>\n",
              "      <td>331.0</td>\n",
              "      <td>1148.0</td>\n",
              "      <td>53032.649450</td>\n",
              "      <td>50247.443900</td>\n",
              "      <td>1751.372284</td>\n",
              "      <td>16631904.0</td>\n",
              "      <td>2010575.0</td>\n",
              "      <td>ABIM</td>\n",
              "      <td>KAABONG</td>\n",
              "      <td>Y</td>\n",
              "    </tr>\n",
              "    <tr>\n",
              "      <th>4</th>\n",
              "      <td>MOROTO</td>\n",
              "      <td>127811</td>\n",
              "      <td>3570160948</td>\n",
              "      <td>128.0</td>\n",
              "      <td>355.0</td>\n",
              "      <td>5954.814048</td>\n",
              "      <td>4741.748776</td>\n",
              "      <td>1190.050606</td>\n",
              "      <td>606944.0</td>\n",
              "      <td>422468.0</td>\n",
              "      <td>ABIM</td>\n",
              "      <td>KAABONG</td>\n",
              "      <td>Y</td>\n",
              "    </tr>\n",
              "  </tbody>\n",
              "</table>\n",
              "</div>\n",
              "    <div class=\"colab-df-buttons\">\n",
              "\n",
              "  <div class=\"colab-df-container\">\n",
              "    <button class=\"colab-df-convert\" onclick=\"convertToInteractive('df-d3490fc1-a479-4a1b-9b7a-0631cab29792')\"\n",
              "            title=\"Convert this dataframe to an interactive table.\"\n",
              "            style=\"display:none;\">\n",
              "\n",
              "  <svg xmlns=\"http://www.w3.org/2000/svg\" height=\"24px\" viewBox=\"0 -960 960 960\">\n",
              "    <path d=\"M120-120v-720h720v720H120Zm60-500h600v-160H180v160Zm220 220h160v-160H400v160Zm0 220h160v-160H400v160ZM180-400h160v-160H180v160Zm440 0h160v-160H620v160ZM180-180h160v-160H180v160Zm440 0h160v-160H620v160Z\"/>\n",
              "  </svg>\n",
              "    </button>\n",
              "\n",
              "  <style>\n",
              "    .colab-df-container {\n",
              "      display:flex;\n",
              "      gap: 12px;\n",
              "    }\n",
              "\n",
              "    .colab-df-convert {\n",
              "      background-color: #E8F0FE;\n",
              "      border: none;\n",
              "      border-radius: 50%;\n",
              "      cursor: pointer;\n",
              "      display: none;\n",
              "      fill: #1967D2;\n",
              "      height: 32px;\n",
              "      padding: 0 0 0 0;\n",
              "      width: 32px;\n",
              "    }\n",
              "\n",
              "    .colab-df-convert:hover {\n",
              "      background-color: #E2EBFA;\n",
              "      box-shadow: 0px 1px 2px rgba(60, 64, 67, 0.3), 0px 1px 3px 1px rgba(60, 64, 67, 0.15);\n",
              "      fill: #174EA6;\n",
              "    }\n",
              "\n",
              "    .colab-df-buttons div {\n",
              "      margin-bottom: 4px;\n",
              "    }\n",
              "\n",
              "    [theme=dark] .colab-df-convert {\n",
              "      background-color: #3B4455;\n",
              "      fill: #D2E3FC;\n",
              "    }\n",
              "\n",
              "    [theme=dark] .colab-df-convert:hover {\n",
              "      background-color: #434B5C;\n",
              "      box-shadow: 0px 1px 3px 1px rgba(0, 0, 0, 0.15);\n",
              "      filter: drop-shadow(0px 1px 2px rgba(0, 0, 0, 0.3));\n",
              "      fill: #FFFFFF;\n",
              "    }\n",
              "  </style>\n",
              "\n",
              "    <script>\n",
              "      const buttonEl =\n",
              "        document.querySelector('#df-d3490fc1-a479-4a1b-9b7a-0631cab29792 button.colab-df-convert');\n",
              "      buttonEl.style.display =\n",
              "        google.colab.kernel.accessAllowed ? 'block' : 'none';\n",
              "\n",
              "      async function convertToInteractive(key) {\n",
              "        const element = document.querySelector('#df-d3490fc1-a479-4a1b-9b7a-0631cab29792');\n",
              "        const dataTable =\n",
              "          await google.colab.kernel.invokeFunction('convertToInteractive',\n",
              "                                                    [key], {});\n",
              "        if (!dataTable) return;\n",
              "\n",
              "        const docLinkHtml = 'Like what you see? Visit the ' +\n",
              "          '<a target=\"_blank\" href=https://colab.research.google.com/notebooks/data_table.ipynb>data table notebook</a>'\n",
              "          + ' to learn more about interactive tables.';\n",
              "        element.innerHTML = '';\n",
              "        dataTable['output_type'] = 'display_data';\n",
              "        await google.colab.output.renderOutput(dataTable, element);\n",
              "        const docLink = document.createElement('div');\n",
              "        docLink.innerHTML = docLinkHtml;\n",
              "        element.appendChild(docLink);\n",
              "      }\n",
              "    </script>\n",
              "  </div>\n",
              "\n",
              "\n",
              "<div id=\"df-87bff3ae-4e78-4a2a-b7fd-05ff7ce6ba56\">\n",
              "  <button class=\"colab-df-quickchart\" onclick=\"quickchart('df-87bff3ae-4e78-4a2a-b7fd-05ff7ce6ba56')\"\n",
              "            title=\"Suggest charts\"\n",
              "            style=\"display:none;\">\n",
              "\n",
              "<svg xmlns=\"http://www.w3.org/2000/svg\" height=\"24px\"viewBox=\"0 0 24 24\"\n",
              "     width=\"24px\">\n",
              "    <g>\n",
              "        <path d=\"M19 3H5c-1.1 0-2 .9-2 2v14c0 1.1.9 2 2 2h14c1.1 0 2-.9 2-2V5c0-1.1-.9-2-2-2zM9 17H7v-7h2v7zm4 0h-2V7h2v10zm4 0h-2v-4h2v4z\"/>\n",
              "    </g>\n",
              "</svg>\n",
              "  </button>\n",
              "\n",
              "<style>\n",
              "  .colab-df-quickchart {\n",
              "      --bg-color: #E8F0FE;\n",
              "      --fill-color: #1967D2;\n",
              "      --hover-bg-color: #E2EBFA;\n",
              "      --hover-fill-color: #174EA6;\n",
              "      --disabled-fill-color: #AAA;\n",
              "      --disabled-bg-color: #DDD;\n",
              "  }\n",
              "\n",
              "  [theme=dark] .colab-df-quickchart {\n",
              "      --bg-color: #3B4455;\n",
              "      --fill-color: #D2E3FC;\n",
              "      --hover-bg-color: #434B5C;\n",
              "      --hover-fill-color: #FFFFFF;\n",
              "      --disabled-bg-color: #3B4455;\n",
              "      --disabled-fill-color: #666;\n",
              "  }\n",
              "\n",
              "  .colab-df-quickchart {\n",
              "    background-color: var(--bg-color);\n",
              "    border: none;\n",
              "    border-radius: 50%;\n",
              "    cursor: pointer;\n",
              "    display: none;\n",
              "    fill: var(--fill-color);\n",
              "    height: 32px;\n",
              "    padding: 0;\n",
              "    width: 32px;\n",
              "  }\n",
              "\n",
              "  .colab-df-quickchart:hover {\n",
              "    background-color: var(--hover-bg-color);\n",
              "    box-shadow: 0 1px 2px rgba(60, 64, 67, 0.3), 0 1px 3px 1px rgba(60, 64, 67, 0.15);\n",
              "    fill: var(--button-hover-fill-color);\n",
              "  }\n",
              "\n",
              "  .colab-df-quickchart-complete:disabled,\n",
              "  .colab-df-quickchart-complete:disabled:hover {\n",
              "    background-color: var(--disabled-bg-color);\n",
              "    fill: var(--disabled-fill-color);\n",
              "    box-shadow: none;\n",
              "  }\n",
              "\n",
              "  .colab-df-spinner {\n",
              "    border: 2px solid var(--fill-color);\n",
              "    border-color: transparent;\n",
              "    border-bottom-color: var(--fill-color);\n",
              "    animation:\n",
              "      spin 1s steps(1) infinite;\n",
              "  }\n",
              "\n",
              "  @keyframes spin {\n",
              "    0% {\n",
              "      border-color: transparent;\n",
              "      border-bottom-color: var(--fill-color);\n",
              "      border-left-color: var(--fill-color);\n",
              "    }\n",
              "    20% {\n",
              "      border-color: transparent;\n",
              "      border-left-color: var(--fill-color);\n",
              "      border-top-color: var(--fill-color);\n",
              "    }\n",
              "    30% {\n",
              "      border-color: transparent;\n",
              "      border-left-color: var(--fill-color);\n",
              "      border-top-color: var(--fill-color);\n",
              "      border-right-color: var(--fill-color);\n",
              "    }\n",
              "    40% {\n",
              "      border-color: transparent;\n",
              "      border-right-color: var(--fill-color);\n",
              "      border-top-color: var(--fill-color);\n",
              "    }\n",
              "    60% {\n",
              "      border-color: transparent;\n",
              "      border-right-color: var(--fill-color);\n",
              "    }\n",
              "    80% {\n",
              "      border-color: transparent;\n",
              "      border-right-color: var(--fill-color);\n",
              "      border-bottom-color: var(--fill-color);\n",
              "    }\n",
              "    90% {\n",
              "      border-color: transparent;\n",
              "      border-bottom-color: var(--fill-color);\n",
              "    }\n",
              "  }\n",
              "</style>\n",
              "\n",
              "  <script>\n",
              "    async function quickchart(key) {\n",
              "      const quickchartButtonEl =\n",
              "        document.querySelector('#' + key + ' button');\n",
              "      quickchartButtonEl.disabled = true;  // To prevent multiple clicks.\n",
              "      quickchartButtonEl.classList.add('colab-df-spinner');\n",
              "      try {\n",
              "        const charts = await google.colab.kernel.invokeFunction(\n",
              "            'suggestCharts', [key], {});\n",
              "      } catch (error) {\n",
              "        console.error('Error during call to suggestCharts:', error);\n",
              "      }\n",
              "      quickchartButtonEl.classList.remove('colab-df-spinner');\n",
              "      quickchartButtonEl.classList.add('colab-df-quickchart-complete');\n",
              "    }\n",
              "    (() => {\n",
              "      let quickchartButtonEl =\n",
              "        document.querySelector('#df-87bff3ae-4e78-4a2a-b7fd-05ff7ce6ba56 button');\n",
              "      quickchartButtonEl.style.display =\n",
              "        google.colab.kernel.accessAllowed ? 'block' : 'none';\n",
              "    })();\n",
              "  </script>\n",
              "</div>\n",
              "\n",
              "    </div>\n",
              "  </div>\n"
            ],
            "application/vnd.google.colaboratory.intrinsic+json": {
              "type": "dataframe",
              "variable_name": "df3",
              "summary": "{\n  \"name\": \"df3\",\n  \"rows\": 59,\n  \"fields\": [\n    {\n      \"column\": \"NAME\",\n      \"properties\": {\n        \"dtype\": \"category\",\n        \"num_unique_values\": 7,\n        \"samples\": [\n          \"ABIM\",\n          \"AMUDAT\",\n          \"NAKAPIRIPIRIT\"\n        ],\n        \"semantic_type\": \"\",\n        \"description\": \"\"\n      }\n    },\n    {\n      \"column\": \"POP\",\n      \"properties\": {\n        \"dtype\": \"number\",\n        \"std\": 87994,\n        \"min\": 1418,\n        \"max\": 627057,\n        \"num_unique_values\": 59,\n        \"samples\": [\n          90385,\n          146780,\n          30181\n        ],\n        \"semantic_type\": \"\",\n        \"description\": \"\"\n      }\n    },\n    {\n      \"column\": \"Area\",\n      \"properties\": {\n        \"dtype\": \"number\",\n        \"std\": 1338078795,\n        \"min\": 2121209,\n        \"max\": 7373606003,\n        \"num_unique_values\": 59,\n        \"samples\": [\n          2771977106,\n          4216323900,\n          596393139\n        ],\n        \"semantic_type\": \"\",\n        \"description\": \"\"\n      }\n    },\n    {\n      \"column\": \"S_Yield_Ha\",\n      \"properties\": {\n        \"dtype\": \"number\",\n        \"std\": 117.6244971128768,\n        \"min\": 108.1564114,\n        \"max\": 560.3130703,\n        \"num_unique_values\": 59,\n        \"samples\": [\n          449.0,\n          356.0,\n          239.0478779\n        ],\n        \"semantic_type\": \"\",\n        \"description\": \"\"\n      }\n    },\n    {\n      \"column\": \"M_Yield_Ha\",\n      \"properties\": {\n        \"dtype\": \"number\",\n        \"std\": 319.2001991472846,\n        \"min\": 0.0,\n        \"max\": 1396.991494,\n        \"num_unique_values\": 59,\n        \"samples\": [\n          1040.0,\n          1264.0,\n          1379.045945\n        ],\n        \"semantic_type\": \"\",\n        \"description\": \"\"\n      }\n    },\n    {\n      \"column\": \"Crop_Area_Ha\",\n      \"properties\": {\n        \"dtype\": \"number\",\n        \"std\": 8668.593760083504,\n        \"min\": 0.171390461,\n        \"max\": 53032.64945,\n        \"num_unique_values\": 59,\n        \"samples\": [\n          5470.068394,\n          26372.69849,\n          1651.99842\n        ],\n        \"semantic_type\": \"\",\n        \"description\": \"\"\n      }\n    },\n    {\n      \"column\": \"S_Area_Ha\",\n      \"properties\": {\n        \"dtype\": \"number\",\n        \"std\": 7654.205284010923,\n        \"min\": 0.130940756,\n        \"max\": 50247.4439,\n        \"num_unique_values\": 59,\n        \"samples\": [\n          3277.295971,\n          19237.33321,\n          676.7832664\n        ],\n        \"semantic_type\": \"\",\n        \"description\": \"\"\n      }\n    },\n    {\n      \"column\": \"M_Area_Ha\",\n      \"properties\": {\n        \"dtype\": \"number\",\n        \"std\": 1570.9178685236614,\n        \"min\": 0.0,\n        \"max\": 7394.416334,\n        \"num_unique_values\": 59,\n        \"samples\": [\n          1848.621855,\n          6425.788414,\n          972.1742459\n        ],\n        \"semantic_type\": \"\",\n        \"description\": \"\"\n      }\n    },\n    {\n      \"column\": \"S_Prod_Tot\",\n      \"properties\": {\n        \"dtype\": \"number\",\n        \"std\": 2483803.9161466323,\n        \"min\": 17.28125956,\n        \"max\": 16631904.0,\n        \"num_unique_values\": 59,\n        \"samples\": [\n          1471506.0,\n          6848491.0,\n          161783.6037\n        ],\n        \"semantic_type\": \"\",\n        \"description\": \"\"\n      }\n    },\n    {\n      \"column\": \"M_Prod_Tot\",\n      \"properties\": {\n        \"dtype\": \"number\",\n        \"std\": 1655392.8116166624,\n        \"min\": 0.0,\n        \"max\": 8122197.0,\n        \"num_unique_values\": 59,\n        \"samples\": [\n          1922567.0,\n          8122197.0,\n          1340672.952\n        ],\n        \"semantic_type\": \"\",\n        \"description\": \"\"\n      }\n    },\n    {\n      \"column\": \"SUBCOUNTY_NAME\",\n      \"properties\": {\n        \"dtype\": \"string\",\n        \"num_unique_values\": 52,\n        \"samples\": [\n          \"NAPORE (KARENGA)\",\n          \"IRIIRI\",\n          \"NGOLERIET\"\n        ],\n        \"semantic_type\": \"\",\n        \"description\": \"\"\n      }\n    },\n    {\n      \"column\": \"DISTRICT_NAME\",\n      \"properties\": {\n        \"dtype\": \"category\",\n        \"num_unique_values\": 7,\n        \"samples\": [\n          \"KAABONG\",\n          \"KOTIDO\",\n          \"NAKAPIRIPIRIT\"\n        ],\n        \"semantic_type\": \"\",\n        \"description\": \"\"\n      }\n    },\n    {\n      \"column\": \"Karamoja\",\n      \"properties\": {\n        \"dtype\": \"category\",\n        \"num_unique_values\": 1,\n        \"samples\": [\n          \"Y\"\n        ],\n        \"semantic_type\": \"\",\n        \"description\": \"\"\n      }\n    }\n  ]\n}"
            }
          },
          "metadata": {},
          "execution_count": 11
        }
      ]
    },
    {
      "cell_type": "markdown",
      "source": [
        "\n",
        "This code helps to retrieve the dimensions of the DataFrame df3. It returns a tuple representing the number of rows and columns in the DataFrame."
      ],
      "metadata": {
        "id": "q4AlyV7oev7H"
      }
    },
    {
      "cell_type": "code",
      "source": [
        "df3.shape"
      ],
      "metadata": {
        "colab": {
          "base_uri": "https://localhost:8080/"
        },
        "id": "vHiziY6sIVb1",
        "outputId": "4c4884d4-2ed6-41b4-8793-52a271d82add"
      },
      "execution_count": null,
      "outputs": [
        {
          "output_type": "execute_result",
          "data": {
            "text/plain": [
              "(59, 13)"
            ]
          },
          "metadata": {},
          "execution_count": 12
        }
      ]
    },
    {
      "cell_type": "markdown",
      "source": [
        "\n",
        "\n",
        "This code generates summary statistics of the numerical columns in the DataFrame df3.\n",
        "\n"
      ],
      "metadata": {
        "id": "7mjy1HuViltW"
      }
    },
    {
      "cell_type": "code",
      "source": [
        "df3.describe()"
      ],
      "metadata": {
        "colab": {
          "base_uri": "https://localhost:8080/",
          "height": 300
        },
        "id": "v351fp15IZVJ",
        "outputId": "345987bd-f486-49a8-a4d4-79739b2d5529"
      },
      "execution_count": null,
      "outputs": [
        {
          "output_type": "execute_result",
          "data": {
            "text/plain": [
              "                 POP          Area  S_Yield_Ha   M_Yield_Ha  Crop_Area_Ha  \\\n",
              "count      59.000000  5.900000e+01   59.000000    59.000000     59.000000   \n",
              "mean    51003.542373  9.398630e+08  273.586459   945.703334   5005.479412   \n",
              "std     87994.178609  1.338079e+09  117.624497   319.200199   8668.593760   \n",
              "min      1418.000000  2.121209e+06  108.156411     0.000000      0.171390   \n",
              "25%     16721.000000  1.901488e+08  170.240064   757.082394    998.266305   \n",
              "50%     26644.000000  4.997769e+08  279.000000  1030.064093   2008.068169   \n",
              "75%     43618.000000  1.048900e+09  361.945262  1211.009291   5616.531290   \n",
              "max    627057.000000  7.373606e+09  560.313070  1396.991494  53032.649450   \n",
              "\n",
              "          S_Area_Ha    M_Area_Ha    S_Prod_Tot    M_Prod_Tot  \n",
              "count     59.000000    59.000000  5.900000e+01  5.900000e+01  \n",
              "mean    3971.642595   945.343375  1.156108e+06  9.695461e+05  \n",
              "std     7654.205284  1570.917869  2.483804e+06  1.655393e+06  \n",
              "min        0.130941     0.000000  1.728126e+01  0.000000e+00  \n",
              "25%      533.066508    92.508396  1.466574e+05  7.862814e+04  \n",
              "50%     1550.944570   358.550335  3.397606e+05  3.069518e+05  \n",
              "75%     3216.917338   957.467889  9.664307e+05  9.700422e+05  \n",
              "max    50247.443900  7394.416334  1.663190e+07  8.122197e+06  "
            ],
            "text/html": [
              "\n",
              "  <div id=\"df-8b80c23e-df87-47d3-a7d3-a8535b0465aa\" class=\"colab-df-container\">\n",
              "    <div>\n",
              "<style scoped>\n",
              "    .dataframe tbody tr th:only-of-type {\n",
              "        vertical-align: middle;\n",
              "    }\n",
              "\n",
              "    .dataframe tbody tr th {\n",
              "        vertical-align: top;\n",
              "    }\n",
              "\n",
              "    .dataframe thead th {\n",
              "        text-align: right;\n",
              "    }\n",
              "</style>\n",
              "<table border=\"1\" class=\"dataframe\">\n",
              "  <thead>\n",
              "    <tr style=\"text-align: right;\">\n",
              "      <th></th>\n",
              "      <th>POP</th>\n",
              "      <th>Area</th>\n",
              "      <th>S_Yield_Ha</th>\n",
              "      <th>M_Yield_Ha</th>\n",
              "      <th>Crop_Area_Ha</th>\n",
              "      <th>S_Area_Ha</th>\n",
              "      <th>M_Area_Ha</th>\n",
              "      <th>S_Prod_Tot</th>\n",
              "      <th>M_Prod_Tot</th>\n",
              "    </tr>\n",
              "  </thead>\n",
              "  <tbody>\n",
              "    <tr>\n",
              "      <th>count</th>\n",
              "      <td>59.000000</td>\n",
              "      <td>5.900000e+01</td>\n",
              "      <td>59.000000</td>\n",
              "      <td>59.000000</td>\n",
              "      <td>59.000000</td>\n",
              "      <td>59.000000</td>\n",
              "      <td>59.000000</td>\n",
              "      <td>5.900000e+01</td>\n",
              "      <td>5.900000e+01</td>\n",
              "    </tr>\n",
              "    <tr>\n",
              "      <th>mean</th>\n",
              "      <td>51003.542373</td>\n",
              "      <td>9.398630e+08</td>\n",
              "      <td>273.586459</td>\n",
              "      <td>945.703334</td>\n",
              "      <td>5005.479412</td>\n",
              "      <td>3971.642595</td>\n",
              "      <td>945.343375</td>\n",
              "      <td>1.156108e+06</td>\n",
              "      <td>9.695461e+05</td>\n",
              "    </tr>\n",
              "    <tr>\n",
              "      <th>std</th>\n",
              "      <td>87994.178609</td>\n",
              "      <td>1.338079e+09</td>\n",
              "      <td>117.624497</td>\n",
              "      <td>319.200199</td>\n",
              "      <td>8668.593760</td>\n",
              "      <td>7654.205284</td>\n",
              "      <td>1570.917869</td>\n",
              "      <td>2.483804e+06</td>\n",
              "      <td>1.655393e+06</td>\n",
              "    </tr>\n",
              "    <tr>\n",
              "      <th>min</th>\n",
              "      <td>1418.000000</td>\n",
              "      <td>2.121209e+06</td>\n",
              "      <td>108.156411</td>\n",
              "      <td>0.000000</td>\n",
              "      <td>0.171390</td>\n",
              "      <td>0.130941</td>\n",
              "      <td>0.000000</td>\n",
              "      <td>1.728126e+01</td>\n",
              "      <td>0.000000e+00</td>\n",
              "    </tr>\n",
              "    <tr>\n",
              "      <th>25%</th>\n",
              "      <td>16721.000000</td>\n",
              "      <td>1.901488e+08</td>\n",
              "      <td>170.240064</td>\n",
              "      <td>757.082394</td>\n",
              "      <td>998.266305</td>\n",
              "      <td>533.066508</td>\n",
              "      <td>92.508396</td>\n",
              "      <td>1.466574e+05</td>\n",
              "      <td>7.862814e+04</td>\n",
              "    </tr>\n",
              "    <tr>\n",
              "      <th>50%</th>\n",
              "      <td>26644.000000</td>\n",
              "      <td>4.997769e+08</td>\n",
              "      <td>279.000000</td>\n",
              "      <td>1030.064093</td>\n",
              "      <td>2008.068169</td>\n",
              "      <td>1550.944570</td>\n",
              "      <td>358.550335</td>\n",
              "      <td>3.397606e+05</td>\n",
              "      <td>3.069518e+05</td>\n",
              "    </tr>\n",
              "    <tr>\n",
              "      <th>75%</th>\n",
              "      <td>43618.000000</td>\n",
              "      <td>1.048900e+09</td>\n",
              "      <td>361.945262</td>\n",
              "      <td>1211.009291</td>\n",
              "      <td>5616.531290</td>\n",
              "      <td>3216.917338</td>\n",
              "      <td>957.467889</td>\n",
              "      <td>9.664307e+05</td>\n",
              "      <td>9.700422e+05</td>\n",
              "    </tr>\n",
              "    <tr>\n",
              "      <th>max</th>\n",
              "      <td>627057.000000</td>\n",
              "      <td>7.373606e+09</td>\n",
              "      <td>560.313070</td>\n",
              "      <td>1396.991494</td>\n",
              "      <td>53032.649450</td>\n",
              "      <td>50247.443900</td>\n",
              "      <td>7394.416334</td>\n",
              "      <td>1.663190e+07</td>\n",
              "      <td>8.122197e+06</td>\n",
              "    </tr>\n",
              "  </tbody>\n",
              "</table>\n",
              "</div>\n",
              "    <div class=\"colab-df-buttons\">\n",
              "\n",
              "  <div class=\"colab-df-container\">\n",
              "    <button class=\"colab-df-convert\" onclick=\"convertToInteractive('df-8b80c23e-df87-47d3-a7d3-a8535b0465aa')\"\n",
              "            title=\"Convert this dataframe to an interactive table.\"\n",
              "            style=\"display:none;\">\n",
              "\n",
              "  <svg xmlns=\"http://www.w3.org/2000/svg\" height=\"24px\" viewBox=\"0 -960 960 960\">\n",
              "    <path d=\"M120-120v-720h720v720H120Zm60-500h600v-160H180v160Zm220 220h160v-160H400v160Zm0 220h160v-160H400v160ZM180-400h160v-160H180v160Zm440 0h160v-160H620v160ZM180-180h160v-160H180v160Zm440 0h160v-160H620v160Z\"/>\n",
              "  </svg>\n",
              "    </button>\n",
              "\n",
              "  <style>\n",
              "    .colab-df-container {\n",
              "      display:flex;\n",
              "      gap: 12px;\n",
              "    }\n",
              "\n",
              "    .colab-df-convert {\n",
              "      background-color: #E8F0FE;\n",
              "      border: none;\n",
              "      border-radius: 50%;\n",
              "      cursor: pointer;\n",
              "      display: none;\n",
              "      fill: #1967D2;\n",
              "      height: 32px;\n",
              "      padding: 0 0 0 0;\n",
              "      width: 32px;\n",
              "    }\n",
              "\n",
              "    .colab-df-convert:hover {\n",
              "      background-color: #E2EBFA;\n",
              "      box-shadow: 0px 1px 2px rgba(60, 64, 67, 0.3), 0px 1px 3px 1px rgba(60, 64, 67, 0.15);\n",
              "      fill: #174EA6;\n",
              "    }\n",
              "\n",
              "    .colab-df-buttons div {\n",
              "      margin-bottom: 4px;\n",
              "    }\n",
              "\n",
              "    [theme=dark] .colab-df-convert {\n",
              "      background-color: #3B4455;\n",
              "      fill: #D2E3FC;\n",
              "    }\n",
              "\n",
              "    [theme=dark] .colab-df-convert:hover {\n",
              "      background-color: #434B5C;\n",
              "      box-shadow: 0px 1px 3px 1px rgba(0, 0, 0, 0.15);\n",
              "      filter: drop-shadow(0px 1px 2px rgba(0, 0, 0, 0.3));\n",
              "      fill: #FFFFFF;\n",
              "    }\n",
              "  </style>\n",
              "\n",
              "    <script>\n",
              "      const buttonEl =\n",
              "        document.querySelector('#df-8b80c23e-df87-47d3-a7d3-a8535b0465aa button.colab-df-convert');\n",
              "      buttonEl.style.display =\n",
              "        google.colab.kernel.accessAllowed ? 'block' : 'none';\n",
              "\n",
              "      async function convertToInteractive(key) {\n",
              "        const element = document.querySelector('#df-8b80c23e-df87-47d3-a7d3-a8535b0465aa');\n",
              "        const dataTable =\n",
              "          await google.colab.kernel.invokeFunction('convertToInteractive',\n",
              "                                                    [key], {});\n",
              "        if (!dataTable) return;\n",
              "\n",
              "        const docLinkHtml = 'Like what you see? Visit the ' +\n",
              "          '<a target=\"_blank\" href=https://colab.research.google.com/notebooks/data_table.ipynb>data table notebook</a>'\n",
              "          + ' to learn more about interactive tables.';\n",
              "        element.innerHTML = '';\n",
              "        dataTable['output_type'] = 'display_data';\n",
              "        await google.colab.output.renderOutput(dataTable, element);\n",
              "        const docLink = document.createElement('div');\n",
              "        docLink.innerHTML = docLinkHtml;\n",
              "        element.appendChild(docLink);\n",
              "      }\n",
              "    </script>\n",
              "  </div>\n",
              "\n",
              "\n",
              "<div id=\"df-b237de98-f5f7-401d-afb2-0bc8f3a7efa5\">\n",
              "  <button class=\"colab-df-quickchart\" onclick=\"quickchart('df-b237de98-f5f7-401d-afb2-0bc8f3a7efa5')\"\n",
              "            title=\"Suggest charts\"\n",
              "            style=\"display:none;\">\n",
              "\n",
              "<svg xmlns=\"http://www.w3.org/2000/svg\" height=\"24px\"viewBox=\"0 0 24 24\"\n",
              "     width=\"24px\">\n",
              "    <g>\n",
              "        <path d=\"M19 3H5c-1.1 0-2 .9-2 2v14c0 1.1.9 2 2 2h14c1.1 0 2-.9 2-2V5c0-1.1-.9-2-2-2zM9 17H7v-7h2v7zm4 0h-2V7h2v10zm4 0h-2v-4h2v4z\"/>\n",
              "    </g>\n",
              "</svg>\n",
              "  </button>\n",
              "\n",
              "<style>\n",
              "  .colab-df-quickchart {\n",
              "      --bg-color: #E8F0FE;\n",
              "      --fill-color: #1967D2;\n",
              "      --hover-bg-color: #E2EBFA;\n",
              "      --hover-fill-color: #174EA6;\n",
              "      --disabled-fill-color: #AAA;\n",
              "      --disabled-bg-color: #DDD;\n",
              "  }\n",
              "\n",
              "  [theme=dark] .colab-df-quickchart {\n",
              "      --bg-color: #3B4455;\n",
              "      --fill-color: #D2E3FC;\n",
              "      --hover-bg-color: #434B5C;\n",
              "      --hover-fill-color: #FFFFFF;\n",
              "      --disabled-bg-color: #3B4455;\n",
              "      --disabled-fill-color: #666;\n",
              "  }\n",
              "\n",
              "  .colab-df-quickchart {\n",
              "    background-color: var(--bg-color);\n",
              "    border: none;\n",
              "    border-radius: 50%;\n",
              "    cursor: pointer;\n",
              "    display: none;\n",
              "    fill: var(--fill-color);\n",
              "    height: 32px;\n",
              "    padding: 0;\n",
              "    width: 32px;\n",
              "  }\n",
              "\n",
              "  .colab-df-quickchart:hover {\n",
              "    background-color: var(--hover-bg-color);\n",
              "    box-shadow: 0 1px 2px rgba(60, 64, 67, 0.3), 0 1px 3px 1px rgba(60, 64, 67, 0.15);\n",
              "    fill: var(--button-hover-fill-color);\n",
              "  }\n",
              "\n",
              "  .colab-df-quickchart-complete:disabled,\n",
              "  .colab-df-quickchart-complete:disabled:hover {\n",
              "    background-color: var(--disabled-bg-color);\n",
              "    fill: var(--disabled-fill-color);\n",
              "    box-shadow: none;\n",
              "  }\n",
              "\n",
              "  .colab-df-spinner {\n",
              "    border: 2px solid var(--fill-color);\n",
              "    border-color: transparent;\n",
              "    border-bottom-color: var(--fill-color);\n",
              "    animation:\n",
              "      spin 1s steps(1) infinite;\n",
              "  }\n",
              "\n",
              "  @keyframes spin {\n",
              "    0% {\n",
              "      border-color: transparent;\n",
              "      border-bottom-color: var(--fill-color);\n",
              "      border-left-color: var(--fill-color);\n",
              "    }\n",
              "    20% {\n",
              "      border-color: transparent;\n",
              "      border-left-color: var(--fill-color);\n",
              "      border-top-color: var(--fill-color);\n",
              "    }\n",
              "    30% {\n",
              "      border-color: transparent;\n",
              "      border-left-color: var(--fill-color);\n",
              "      border-top-color: var(--fill-color);\n",
              "      border-right-color: var(--fill-color);\n",
              "    }\n",
              "    40% {\n",
              "      border-color: transparent;\n",
              "      border-right-color: var(--fill-color);\n",
              "      border-top-color: var(--fill-color);\n",
              "    }\n",
              "    60% {\n",
              "      border-color: transparent;\n",
              "      border-right-color: var(--fill-color);\n",
              "    }\n",
              "    80% {\n",
              "      border-color: transparent;\n",
              "      border-right-color: var(--fill-color);\n",
              "      border-bottom-color: var(--fill-color);\n",
              "    }\n",
              "    90% {\n",
              "      border-color: transparent;\n",
              "      border-bottom-color: var(--fill-color);\n",
              "    }\n",
              "  }\n",
              "</style>\n",
              "\n",
              "  <script>\n",
              "    async function quickchart(key) {\n",
              "      const quickchartButtonEl =\n",
              "        document.querySelector('#' + key + ' button');\n",
              "      quickchartButtonEl.disabled = true;  // To prevent multiple clicks.\n",
              "      quickchartButtonEl.classList.add('colab-df-spinner');\n",
              "      try {\n",
              "        const charts = await google.colab.kernel.invokeFunction(\n",
              "            'suggestCharts', [key], {});\n",
              "      } catch (error) {\n",
              "        console.error('Error during call to suggestCharts:', error);\n",
              "      }\n",
              "      quickchartButtonEl.classList.remove('colab-df-spinner');\n",
              "      quickchartButtonEl.classList.add('colab-df-quickchart-complete');\n",
              "    }\n",
              "    (() => {\n",
              "      let quickchartButtonEl =\n",
              "        document.querySelector('#df-b237de98-f5f7-401d-afb2-0bc8f3a7efa5 button');\n",
              "      quickchartButtonEl.style.display =\n",
              "        google.colab.kernel.accessAllowed ? 'block' : 'none';\n",
              "    })();\n",
              "  </script>\n",
              "</div>\n",
              "\n",
              "    </div>\n",
              "  </div>\n"
            ],
            "application/vnd.google.colaboratory.intrinsic+json": {
              "type": "dataframe",
              "summary": "{\n  \"name\": \"df3\",\n  \"rows\": 8,\n  \"fields\": [\n    {\n      \"column\": \"POP\",\n      \"properties\": {\n        \"dtype\": \"number\",\n        \"std\": 212187.3938331097,\n        \"min\": 59.0,\n        \"max\": 627057.0,\n        \"num_unique_values\": 8,\n        \"samples\": [\n          51003.542372881355,\n          26644.0,\n          59.0\n        ],\n        \"semantic_type\": \"\",\n        \"description\": \"\"\n      }\n    },\n    {\n      \"column\": \"Area\",\n      \"properties\": {\n        \"dtype\": \"number\",\n        \"std\": 2455500393.4084997,\n        \"min\": 59.0,\n        \"max\": 7373606003.0,\n        \"num_unique_values\": 8,\n        \"samples\": [\n          939863014.6440678,\n          499776866.0,\n          59.0\n        ],\n        \"semantic_type\": \"\",\n        \"description\": \"\"\n      }\n    },\n    {\n      \"column\": \"S_Yield_Ha\",\n      \"properties\": {\n        \"dtype\": \"number\",\n        \"std\": 164.7916162822833,\n        \"min\": 59.0,\n        \"max\": 560.3130703,\n        \"num_unique_values\": 8,\n        \"samples\": [\n          273.58645873050847,\n          279.0,\n          59.0\n        ],\n        \"semantic_type\": \"\",\n        \"description\": \"\"\n      }\n    },\n    {\n      \"column\": \"M_Yield_Ha\",\n      \"properties\": {\n        \"dtype\": \"number\",\n        \"std\": 529.6381949519945,\n        \"min\": 0.0,\n        \"max\": 1396.991494,\n        \"num_unique_values\": 8,\n        \"samples\": [\n          945.7033341881355,\n          1030.064093,\n          59.0\n        ],\n        \"semantic_type\": \"\",\n        \"description\": \"\"\n      }\n    },\n    {\n      \"column\": \"Crop_Area_Ha\",\n      \"properties\": {\n        \"dtype\": \"number\",\n        \"std\": 17883.775129507514,\n        \"min\": 0.171390461,\n        \"max\": 53032.64945,\n        \"num_unique_values\": 8,\n        \"samples\": [\n          5005.47941207878,\n          2008.068169,\n          59.0\n        ],\n        \"semantic_type\": \"\",\n        \"description\": \"\"\n      }\n    },\n    {\n      \"column\": \"S_Area_Ha\",\n      \"properties\": {\n        \"dtype\": \"number\",\n        \"std\": 17101.24310830697,\n        \"min\": 0.130940756,\n        \"max\": 50247.4439,\n        \"num_unique_values\": 8,\n        \"samples\": [\n          3971.6425952107797,\n          1550.94457,\n          59.0\n        ],\n        \"semantic_type\": \"\",\n        \"description\": \"\"\n      }\n    },\n    {\n      \"column\": \"M_Area_Ha\",\n      \"properties\": {\n        \"dtype\": \"number\",\n        \"std\": 2475.9774556675247,\n        \"min\": 0.0,\n        \"max\": 7394.416334,\n        \"num_unique_values\": 8,\n        \"samples\": [\n          945.3433753571694,\n          358.5503345,\n          59.0\n        ],\n        \"semantic_type\": \"\",\n        \"description\": \"\"\n      }\n    },\n    {\n      \"column\": \"S_Prod_Tot\",\n      \"properties\": {\n        \"dtype\": \"number\",\n        \"std\": 5684584.233123522,\n        \"min\": 17.28125956,\n        \"max\": 16631904.0,\n        \"num_unique_values\": 8,\n        \"samples\": [\n          1156108.2679775935,\n          339760.6153,\n          59.0\n        ],\n        \"semantic_type\": \"\",\n        \"description\": \"\"\n      }\n    },\n    {\n      \"column\": \"M_Prod_Tot\",\n      \"properties\": {\n        \"dtype\": \"number\",\n        \"std\": 2735534.427039221,\n        \"min\": 0.0,\n        \"max\": 8122197.0,\n        \"num_unique_values\": 8,\n        \"samples\": [\n          969546.082251045,\n          306951.8167,\n          59.0\n        ],\n        \"semantic_type\": \"\",\n        \"description\": \"\"\n      }\n    }\n  ]\n}"
            }
          },
          "metadata": {},
          "execution_count": 13
        }
      ]
    },
    {
      "cell_type": "markdown",
      "source": [
        "\n",
        "\n",
        "This code provide a concise summary of the DataFrame df3. This method displays information such as:\n",
        "\n",
        " 1.Number of rows and columns: The total size of the DataFrame.\n",
        "\n",
        " 2.Column names: All the column names in the DataFrame.\n",
        "\n",
        "3.Non-null count: The number of non-null (non-missing) entries in each column.\n",
        "\n",
        " 4.Data types: The data type of each column (e.g., int64, float64, object, etc.).\n",
        "\n",
        " 5.Memory usage: The amount of memory used by the DataFrame.\n",
        "\n",
        "This method is helpful for quickly understanding the structure of the DataFrame, identifying missing values, and determining data types. It's often used in the initial stages of data analysis."
      ],
      "metadata": {
        "id": "P_4l8WCXi93O"
      }
    },
    {
      "cell_type": "code",
      "source": [
        "df3.info()"
      ],
      "metadata": {
        "colab": {
          "base_uri": "https://localhost:8080/"
        },
        "id": "TVqpfZyTIxnG",
        "outputId": "4c4d20f9-fd64-453c-f921-98946a4c7684"
      },
      "execution_count": null,
      "outputs": [
        {
          "output_type": "stream",
          "name": "stdout",
          "text": [
            "<class 'pandas.core.frame.DataFrame'>\n",
            "RangeIndex: 59 entries, 0 to 58\n",
            "Data columns (total 13 columns):\n",
            " #   Column          Non-Null Count  Dtype  \n",
            "---  ------          --------------  -----  \n",
            " 0   NAME            59 non-null     object \n",
            " 1   POP             59 non-null     int64  \n",
            " 2   Area            59 non-null     int64  \n",
            " 3   S_Yield_Ha      59 non-null     float64\n",
            " 4   M_Yield_Ha      59 non-null     float64\n",
            " 5   Crop_Area_Ha    59 non-null     float64\n",
            " 6   S_Area_Ha       59 non-null     float64\n",
            " 7   M_Area_Ha       59 non-null     float64\n",
            " 8   S_Prod_Tot      59 non-null     float64\n",
            " 9   M_Prod_Tot      59 non-null     float64\n",
            " 10  SUBCOUNTY_NAME  59 non-null     object \n",
            " 11  DISTRICT_NAME   59 non-null     object \n",
            " 12  Karamoja        59 non-null     object \n",
            "dtypes: float64(7), int64(2), object(4)\n",
            "memory usage: 6.1+ KB\n"
          ]
        }
      ]
    },
    {
      "cell_type": "markdown",
      "source": [
        "**RECOMMENDATIONS**"
      ],
      "metadata": {
        "id": "Q-3SPAySjnFz"
      }
    },
    {
      "cell_type": "markdown",
      "source": [
        "\n",
        "1. Data Quality: Ensure the reliability and accuracy of the data source\n",
        "\n",
        "\n",
        "2. External Factors: Consider external factors (e.g., climate change, policy changes) that might influence crop yields.\n",
        "\n",
        "3. Data Privacy: Handle sensitive data (e.g., personal information) ethically and in compliance with regulations.\n",
        "\n",
        "By following these recommendations, you can gain valuable insights into the relationship between crop yields, population, and other factors in the Karamoja region, which can inform policy decisions and agricultural development efforts."
      ],
      "metadata": {
        "id": "LtlQa7SGmFKz"
      }
    }
  ]
}