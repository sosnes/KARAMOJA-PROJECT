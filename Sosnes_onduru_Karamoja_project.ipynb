{
  "nbformat": 4,
  "nbformat_minor": 0,
  "metadata": {
    "colab": {
      "provenance": [],
      "authorship_tag": "ABX9TyO4dijkt9p7EHhh+TYKmw5r",
      "include_colab_link": true
    },
    "kernelspec": {
      "name": "python3",
      "display_name": "Python 3"
    },
    "language_info": {
      "name": "python"
    }
  },
  "cells": [
    {
      "cell_type": "markdown",
      "metadata": {
        "id": "view-in-github",
        "colab_type": "text"
      },
      "source": [
        "<a href=\"https://colab.research.google.com/github/sosnes/KARAMOJA-PROJECT/blob/master/Sosnes_onduru_Karamoja_project.ipynb\" target=\"_parent\"><img src=\"https://colab.research.google.com/assets/colab-badge.svg\" alt=\"Open In Colab\"/></a>"
      ]
    },
    {
      "cell_type": "markdown",
      "source": [],
      "metadata": {
        "id": "443mXMcVT_3N"
      }
    },
    {
      "cell_type": "markdown",
      "source": [
        "# ***KARAMOJA END PHASE PROJECCT***"
      ],
      "metadata": {
        "id": "J155UpQQUBf9"
      }
    },
    {
      "cell_type": "markdown",
      "source": [
        "# **INTRODUCTION**"
      ],
      "metadata": {
        "id": "jpSP1nmYVFmL"
      }
    },
    {
      "cell_type": "markdown",
      "source": [
        "The Karamoja sub-region, commonly known as Karamoja, is a region in Uganda. It covers an area of 27,528km and comprises the Kotido District, Kaabong District, Karenga District, Nabilatuk District, Abim District, Moroto District, Napak District, Amudat District and Nakapiripirit District."
      ],
      "metadata": {
        "id": "u1ddeLB9VinW"
      }
    },
    {
      "cell_type": "markdown",
      "source": [
        "**IMPORTATION OF LIBRARIES**"
      ],
      "metadata": {
        "id": "i5vCWh9sn6dH"
      }
    },
    {
      "cell_type": "markdown",
      "source": [
        "\n",
        "\n",
        "First we begin by importing various libraries using the codes below."
      ],
      "metadata": {
        "id": "Aciwdfs1Vowp"
      }
    },
    {
      "cell_type": "code",
      "source": [
        "import numpy as np\n",
        "import pandas as pd"
      ],
      "metadata": {
        "id": "qGvPnYtByOba"
      },
      "execution_count": 3,
      "outputs": []
    },
    {
      "cell_type": "markdown",
      "source": [
        "\n",
        "**LOADING DATA**"
      ],
      "metadata": {
        "id": "SuJGxBltoONR"
      }
    },
    {
      "cell_type": "markdown",
      "source": [
        "\n",
        "\n",
        "These lines of code load two different datasets into pandas DataFrames with the first column of each CSV file serving as the row index. After this, you can manipulate, analyze, and visualize the data in df1 and df2 as needed for your project."
      ],
      "metadata": {
        "id": "zhHfPrJVWqar"
      }
    },
    {
      "cell_type": "code",
      "source": [
        " df1 = pd.read_csv('/content/Uganda_Karamoja_District_Crop_Yield_Population.csv', index_col=0)\n",
        "df2 = pd.read_csv('/content/Uganda_Karamoja_Subcounty_Crop_Yield_Population.csv', index_col=0)\n"
      ],
      "metadata": {
        "id": "jKdnDpwaybKJ"
      },
      "execution_count": 19,
      "outputs": []
    },
    {
      "cell_type": "markdown",
      "source": [
        "**THE SHAPE TO OUR DATAFRAME**"
      ],
      "metadata": {
        "id": "wxD78AGEocMx"
      }
    },
    {
      "cell_type": "markdown",
      "source": [
        "\n",
        "\n",
        "If you run [df1.shape, df2.shape], you will get a list containing the shape of both DataFrames. This helps in quickly understanding the size of your datasets."
      ],
      "metadata": {
        "id": "fFlGmjmtXECn"
      }
    },
    {
      "cell_type": "code",
      "source": [
        "[df1.shape,df2.shape]"
      ],
      "metadata": {
        "colab": {
          "base_uri": "https://localhost:8080/"
        },
        "id": "hzl3Eu-jGpkh",
        "outputId": "7c945fc8-4458-45d8-f97f-e6b78766d8d9"
      },
      "execution_count": 5,
      "outputs": [
        {
          "output_type": "execute_result",
          "data": {
            "text/plain": [
              "[(7, 10), (52, 12)]"
            ]
          },
          "metadata": {},
          "execution_count": 5
        }
      ]
    },
    {
      "cell_type": "markdown",
      "source": [],
      "metadata": {
        "id": "zC8K1DCyXdj_"
      }
    },
    {
      "cell_type": "markdown",
      "source": [
        "**VIEWING THE DATA**"
      ],
      "metadata": {
        "id": "4uoeIwFNopCE"
      }
    },
    {
      "cell_type": "markdown",
      "source": [
        "\n",
        "\n",
        "These commands provide an initial overview of the data in df1 and df2. You get insights into the structure, data types, presence of missing values, and the statistical distribution of numerical columns. This is a standard procedure when starting any analysis to understand the content and quality of the datasets."
      ],
      "metadata": {
        "id": "VgF9uNBBXeob"
      }
    },
    {
      "cell_type": "code",
      "source": [
        "# Check the first few rows of each DataFrame\n",
        "print(df1.head())\n",
        "print(df2.head())\n",
        "\n",
        "# Get information about the data (column names, data types, non-null counts)\n",
        "print(df1.info())\n",
        "print(df2.info())\n",
        "\n",
        "# Check for missing values\n",
        "print(df1.isnull().sum())\n",
        "print(df2.isnull().sum())\n",
        "\n",
        "# Describe the statistics of the numerical columns\n",
        "print(df1.describe())\n",
        "print(df2.describe())\n"
      ],
      "metadata": {
        "colab": {
          "base_uri": "https://localhost:8080/"
        },
        "id": "J-kcXENh0gvC",
        "outputId": "400c3d3e-68e6-47a1-d9e5-0110e2d38909"
      },
      "execution_count": 6,
      "outputs": [
        {
          "output_type": "stream",
          "name": "stdout",
          "text": [
            "             NAME     POP        Area  S_Yield_Ha  M_Yield_Ha  Crop_Area_Ha  \\\n",
            "OBJECTID                                                                      \n",
            "92           ABIM   90385  2771977106         449        1040   5470.068394   \n",
            "96         AMUDAT  101790  1643582836         205        1297   5765.443719   \n",
            "20        KAABONG  627057  7373606003         279         945  28121.672530   \n",
            "85         KOTIDO  243157  3641539808         331        1148  53032.649450   \n",
            "5          MOROTO  127811  3570160948         128         355   5954.814048   \n",
            "\n",
            "             S_Area_Ha    M_Area_Ha  S_Prod_Tot  M_Prod_Tot  \n",
            "OBJECTID                                                     \n",
            "92         3277.295971  1848.621855     1471506     1922567  \n",
            "96         2973.423860  2733.661014      609552     3545558  \n",
            "20        20544.194960  7394.416334     5731830     6987723  \n",
            "85        50247.443900  1751.372284    16631904     2010575  \n",
            "5          4741.748776  1190.050606      606944      422468  \n",
            "               SUBCOUNTY_NAME DISTRICT_NAME    POP        Area Karamoja  \\\n",
            "OBJECTID                                                                  \n",
            "263                   KACHERI        KOTIDO  17244  1067176155        Y   \n",
            "264                    KOTIDO        KOTIDO  52771   597575188        Y   \n",
            "265       KOTIDO TOWN COUNCIL        KOTIDO  27389    23972401        Y   \n",
            "266              NAKAPERIMORU        KOTIDO  38775   419111591        Y   \n",
            "267                PANYANGARA        KOTIDO  65704   880955930        Y   \n",
            "\n",
            "          S_Yield_Ha   M_Yield_Ha  Crop_Area_Ha     S_Area_Ha   M_Area_Ha  \\\n",
            "OBJECTID                                                                    \n",
            "263       354.207411  1137.467019   7023.533691   6434.342449  528.124229   \n",
            "264       367.890523  1162.996687  13587.990760  12455.592640  824.767081   \n",
            "265       369.314177  1167.005832   1656.531855   1520.322052    8.561644   \n",
            "266       283.324569   852.366578   7087.823334   6761.488901   45.721712   \n",
            "267       373.836926  1283.859882  10398.249390  10111.198130  172.611914   \n",
            "\n",
            "            S_Prod_Tot     M_Prod_Tot  \n",
            "OBJECTID                               \n",
            "263       2.279092e+06  600723.892900  \n",
            "264       4.582294e+06  959201.382500  \n",
            "265       5.614765e+05    9991.488268  \n",
            "266       1.915696e+06   38971.659080  \n",
            "267       3.779939e+06  221609.511400  \n",
            "<class 'pandas.core.frame.DataFrame'>\n",
            "Index: 7 entries, 92 to 80\n",
            "Data columns (total 10 columns):\n",
            " #   Column        Non-Null Count  Dtype  \n",
            "---  ------        --------------  -----  \n",
            " 0   NAME          7 non-null      object \n",
            " 1   POP           7 non-null      int64  \n",
            " 2   Area          7 non-null      int64  \n",
            " 3   S_Yield_Ha    7 non-null      int64  \n",
            " 4   M_Yield_Ha    7 non-null      int64  \n",
            " 5   Crop_Area_Ha  7 non-null      float64\n",
            " 6   S_Area_Ha     7 non-null      float64\n",
            " 7   M_Area_Ha     7 non-null      float64\n",
            " 8   S_Prod_Tot    7 non-null      int64  \n",
            " 9   M_Prod_Tot    7 non-null      int64  \n",
            "dtypes: float64(3), int64(6), object(1)\n",
            "memory usage: 616.0+ bytes\n",
            "None\n",
            "<class 'pandas.core.frame.DataFrame'>\n",
            "Index: 52 entries, 263 to 1320\n",
            "Data columns (total 12 columns):\n",
            " #   Column          Non-Null Count  Dtype  \n",
            "---  ------          --------------  -----  \n",
            " 0   SUBCOUNTY_NAME  52 non-null     object \n",
            " 1   DISTRICT_NAME   52 non-null     object \n",
            " 2   POP             52 non-null     int64  \n",
            " 3   Area            52 non-null     int64  \n",
            " 4   Karamoja        52 non-null     object \n",
            " 5   S_Yield_Ha      52 non-null     float64\n",
            " 6   M_Yield_Ha      52 non-null     float64\n",
            " 7   Crop_Area_Ha    52 non-null     float64\n",
            " 8   S_Area_Ha       52 non-null     float64\n",
            " 9   M_Area_Ha       52 non-null     float64\n",
            " 10  S_Prod_Tot      52 non-null     float64\n",
            " 11  M_Prod_Tot      52 non-null     float64\n",
            "dtypes: float64(7), int64(2), object(3)\n",
            "memory usage: 5.3+ KB\n",
            "None\n",
            "NAME            0\n",
            "POP             0\n",
            "Area            0\n",
            "S_Yield_Ha      0\n",
            "M_Yield_Ha      0\n",
            "Crop_Area_Ha    0\n",
            "S_Area_Ha       0\n",
            "M_Area_Ha       0\n",
            "S_Prod_Tot      0\n",
            "M_Prod_Tot      0\n",
            "dtype: int64\n",
            "SUBCOUNTY_NAME    0\n",
            "DISTRICT_NAME     0\n",
            "POP               0\n",
            "Area              0\n",
            "Karamoja          0\n",
            "S_Yield_Ha        0\n",
            "M_Yield_Ha        0\n",
            "Crop_Area_Ha      0\n",
            "S_Area_Ha         0\n",
            "M_Area_Ha         0\n",
            "S_Prod_Tot        0\n",
            "M_Prod_Tot        0\n",
            "dtype: int64\n",
            "                 POP          Area  S_Yield_Ha   M_Yield_Ha  Crop_Area_Ha  \\\n",
            "count       7.000000  7.000000e+00    7.000000     7.000000      7.000000   \n",
            "mean   214943.571429  3.960853e+09  269.285714   986.142857  21094.520379   \n",
            "std    188604.280916  1.781860e+09  119.243049   321.566700  17363.854165   \n",
            "min     90385.000000  1.643583e+09  128.000000   355.000000   5470.068394   \n",
            "25%    114800.500000  3.171069e+09  171.000000   899.500000   5860.128883   \n",
            "50%    146780.000000  3.641540e+09  279.000000  1040.000000  22944.296020   \n",
            "75%    205391.000000  4.362553e+09  343.500000  1206.000000  27247.185510   \n",
            "max    627057.000000  7.373606e+09  449.000000  1297.000000  53032.649450   \n",
            "\n",
            "          S_Area_Ha    M_Area_Ha    S_Prod_Tot    M_Prod_Tot  \n",
            "count      7.000000     7.000000  7.000000e+00  7.000000e+00  \n",
            "mean   16737.636651  3983.947082  4.873098e+06  4.085632e+06  \n",
            "std    16625.963460  2678.911441  5.743724e+06  2.877188e+06  \n",
            "min     2973.423860  1190.050606  6.069440e+05  4.224680e+05  \n",
            "25%     4009.522373  1799.997070  1.040529e+06  1.966571e+06  \n",
            "50%    16142.015880  2733.661014  2.211456e+06  3.545558e+06  \n",
            "75%    19890.764085  6484.753740  6.290160e+06  6.288030e+06  \n",
            "max    50247.443900  7394.416334  1.663190e+07  8.122197e+06  \n",
            "                 POP          Area  S_Yield_Ha   M_Yield_Ha  Crop_Area_Ha  \\\n",
            "count      52.000000  5.200000e+01   52.000000    52.000000     52.000000   \n",
            "mean    28934.692308  5.331913e+08  274.165405   940.259552   2839.646974   \n",
            "std     20865.122974  4.913308e+08  118.569907   321.641901   3110.505917   \n",
            "min      1418.000000  2.121209e+06  108.156411     0.000000      0.171390   \n",
            "25%     16558.500000  1.568923e+08  173.034066   743.075879    964.876031   \n",
            "50%     23053.500000  3.848356e+08  277.255206  1016.684002   1654.265138   \n",
            "75%     39461.000000  7.749029e+08  368.246437  1203.548665   3267.564651   \n",
            "max    100919.000000  2.069555e+09  560.313070  1396.991494  13587.990760   \n",
            "\n",
            "          S_Area_Ha    M_Area_Ha    S_Prod_Tot    M_Prod_Tot  \n",
            "count     52.000000    52.000000  5.200000e+01  5.200000e+01  \n",
            "mean    2253.143395   536.300569  6.557443e+05  5.500730e+05  \n",
            "std     2954.355858   724.092288  9.915839e+05  7.939707e+05  \n",
            "min        0.130941     0.000000  1.728126e+01  0.000000e+00  \n",
            "25%      405.394759    79.821743  1.210555e+05  6.087012e+04  \n",
            "50%     1231.824456   326.479336  2.543687e+05  2.896239e+05  \n",
            "75%     2429.985069   740.296675  6.040942e+05  8.114574e+05  \n",
            "max    12964.499730  3840.698081  4.582294e+06  4.365058e+06  \n"
          ]
        }
      ]
    },
    {
      "cell_type": "markdown",
      "source": [
        "**COMBINING DATASETS**"
      ],
      "metadata": {
        "id": "pZlnV6EFo4P9"
      }
    },
    {
      "cell_type": "markdown",
      "source": [
        "\n",
        "\n",
        "\n",
        "This code is useful when you need to combine two datasets but aren't sure if they have columns in common. It automatically detects common columns and merges the datasets, allowing you to consolidate related data.\n",
        "\n",
        "\n",
        "Example Scenario:\n",
        "\n",
        "*Suppose df1 contains district-level data, and df2 contains subcounty-level data, and both DataFrames have a column called \"district_name\". This code will find that column and merge the two DataFrames based on it. If the column doesn't exist in both DataFrames, it will notify you that no common columns were found."
      ],
      "metadata": {
        "id": "_Gc2aSmEX9Pl"
      }
    },
    {
      "cell_type": "code",
      "source": [
        "# Checking for common columns that could be used for merging\n",
        "common_columns = list(set(df1.columns).intersection(set(df2.columns)))\n",
        "\n",
        "if common_columns:\n",
        "    print(f\"Common columns: {common_columns}\")\n",
        "\n",
        "    # Use the first common column for merging (modify if you have a preferred column)\n",
        "    key_column = common_columns[0]\n",
        "\n",
        "    # Merging the datasets on the common key column\n",
        "    merged_df = pd.merge(df1, df2, on=key_column, how='inner')\n",
        "\n",
        "    # Display the first few rows of the merged dataset\n",
        "    print(f\"DataFrames merged successfully on column: {key_column}\")\n",
        "    print(merged_df.head())\n",
        "else:\n",
        "    print(\"No common columns found for merging.\")\n"
      ],
      "metadata": {
        "colab": {
          "base_uri": "https://localhost:8080/"
        },
        "id": "PvmRlcxO1L8O",
        "outputId": "15858196-203e-41a3-9e44-b74885763dc5"
      },
      "execution_count": 7,
      "outputs": [
        {
          "output_type": "stream",
          "name": "stdout",
          "text": [
            "Common columns: ['M_Area_Ha', 'S_Prod_Tot', 'M_Yield_Ha', 'Crop_Area_Ha', 'POP', 'S_Area_Ha', 'M_Prod_Tot', 'Area', 'S_Yield_Ha']\n",
            "DataFrames merged successfully on column: M_Area_Ha\n",
            "Empty DataFrame\n",
            "Columns: [NAME, POP_x, Area_x, S_Yield_Ha_x, M_Yield_Ha_x, Crop_Area_Ha_x, S_Area_Ha_x, M_Area_Ha, S_Prod_Tot_x, M_Prod_Tot_x, SUBCOUNTY_NAME, DISTRICT_NAME, POP_y, Area_y, Karamoja, S_Yield_Ha_y, M_Yield_Ha_y, Crop_Area_Ha_y, S_Area_Ha_y, S_Prod_Tot_y, M_Prod_Tot_y]\n",
            "Index: []\n",
            "\n",
            "[0 rows x 21 columns]\n"
          ]
        }
      ]
    },
    {
      "cell_type": "markdown",
      "source": [
        "**FIRST 5  ROWS**"
      ],
      "metadata": {
        "id": "5gRFXJNFpEkn"
      }
    },
    {
      "cell_type": "markdown",
      "source": [
        "\n",
        "\n",
        "Running this code will display the first 5 rows of the combined DataFrame. If there are columns that don't have corresponding values across the DataFrames, you will see NaN where data is missing."
      ],
      "metadata": {
        "id": "ZI-TfqvzZkoO"
      }
    },
    {
      "cell_type": "code",
      "source": [
        "# Combining the DataFrames using an outer join\n",
        "combined_df = pd.merge(df1, df2, how='outer')\n",
        "\n",
        "# Display the first few rows of the combined DataFrame\n",
        "print(combined_df.head())\n"
      ],
      "metadata": {
        "colab": {
          "base_uri": "https://localhost:8080/"
        },
        "id": "sCoHgGnWY_Q7",
        "outputId": "0c90ce5d-04c9-49be-b34a-c7d79be187e3"
      },
      "execution_count": 11,
      "outputs": [
        {
          "output_type": "stream",
          "name": "stdout",
          "text": [
            "      NAME     POP        Area  S_Yield_Ha  M_Yield_Ha  Crop_Area_Ha  \\\n",
            "0     ABIM   90385  2771977106       449.0      1040.0   5470.068394   \n",
            "1   AMUDAT  101790  1643582836       205.0      1297.0   5765.443719   \n",
            "2  KAABONG  627057  7373606003       279.0       945.0  28121.672530   \n",
            "3   KOTIDO  243157  3641539808       331.0      1148.0  53032.649450   \n",
            "4   MOROTO  127811  3570160948       128.0       355.0   5954.814048   \n",
            "\n",
            "      S_Area_Ha    M_Area_Ha  S_Prod_Tot  M_Prod_Tot SUBCOUNTY_NAME  \\\n",
            "0   3277.295971  1848.621855   1471506.0   1922567.0            NaN   \n",
            "1   2973.423860  2733.661014    609552.0   3545558.0            NaN   \n",
            "2  20544.194960  7394.416334   5731830.0   6987723.0            NaN   \n",
            "3  50247.443900  1751.372284  16631904.0   2010575.0            NaN   \n",
            "4   4741.748776  1190.050606    606944.0    422468.0            NaN   \n",
            "\n",
            "  DISTRICT_NAME Karamoja  \n",
            "0           NaN      NaN  \n",
            "1           NaN      NaN  \n",
            "2           NaN      NaN  \n",
            "3           NaN      NaN  \n",
            "4           NaN      NaN  \n"
          ]
        },
        {
          "output_type": "stream",
          "name": "stderr",
          "text": [
            "<ipython-input-11-4d6c505bc128>:2: UserWarning: You are merging on int and float columns where the float values are not equal to their int representation.\n",
            "  combined_df = pd.merge(df1, df2, how='outer')\n"
          ]
        }
      ]
    },
    {
      "cell_type": "markdown",
      "source": [
        "**MISSING DATA**"
      ],
      "metadata": {
        "id": "9w1hbXi7pSF3"
      }
    },
    {
      "cell_type": "markdown",
      "source": [],
      "metadata": {
        "id": "nCIKoXvPpSCl"
      }
    },
    {
      "cell_type": "markdown",
      "source": [
        "\n",
        "\n",
        "This approach is useful when you have missing data in numeric columns, and you want to replace those missing values with a sensible estimate (in this case, the mean of the column).\n",
        "\n"
      ],
      "metadata": {
        "id": "3zMl4bv5Z_oZ"
      }
    },
    {
      "cell_type": "code",
      "source": [
        "# filling the missing values in the column region with mean for numeric value\n",
        "numeric_columns = combined_df.select_dtypes(include=[np.number]).columns\n",
        "combined_df[numeric_columns] = combined_df[numeric_columns].fillna(combined_df[numeric_columns].mean())"
      ],
      "metadata": {
        "id": "CtVYV6a0HY-o"
      },
      "execution_count": 17,
      "outputs": []
    },
    {
      "cell_type": "markdown",
      "source": [
        "\n",
        "\n",
        "This approach works well for categorical or object-type data. If a column has multiple modes (i.e., more than one value appears with the highest frequency), mode().iloc[0] will return the first mode."
      ],
      "metadata": {
        "id": "Ynq6M2fcdbgw"
      }
    },
    {
      "cell_type": "code",
      "source": [
        "# filling missing values for non-numeric columns\n",
        "non_numeric_columns = combined_df.select_dtypes(exclude=[np.number]).columns\n",
        "combined_df[non_numeric_columns] = combined_df[non_numeric_columns].fillna(combined_df[non_numeric_columns].mode().iloc[0])"
      ],
      "metadata": {
        "id": "37uSPecWHe-z"
      },
      "execution_count": 18,
      "outputs": []
    },
    {
      "cell_type": "markdown",
      "source": [
        "**HANDLING MISSING VALUES**"
      ],
      "metadata": {
        "id": "stiTHm7ppp47"
      }
    },
    {
      "cell_type": "markdown",
      "source": [
        "\n",
        "\n",
        "The purpose of the code is to handle missing values in non-numeric columns of a DataFrame by replacing them with the most frequent value (the mode) for each column.\n",
        "\n",
        "When dealing with datasets that have missing data, especially in non-numeric columns (e.g., strings, categories), imputing missing values is necessary to ensure the dataset is complete and can be used for further analysis or modeling. Filling the missing values with the mode helps maintain the most common characteristic in the data, which can be more representative than arbitrary methods like filling with a placeholder or dropping rows.\n",
        "\n",
        "This technique is particularly useful in situations where non-numeric columns represent categorical data, like customer preferences, product categories, or any other attribute with a finite set of"
      ],
      "metadata": {
        "id": "3n16eHvpd5ZU"
      }
    },
    {
      "cell_type": "code",
      "source": [
        "# saving the combined dataset\n",
        "combined_df.to_csv('Karamoja_combined_df.csv', index=False)"
      ],
      "metadata": {
        "id": "Xk1OOdZhHsX3"
      },
      "execution_count": 15,
      "outputs": []
    },
    {
      "cell_type": "markdown",
      "source": [
        "**VIEWING THE DATASET**"
      ],
      "metadata": {
        "id": "676Um71Hp5um"
      }
    },
    {
      "cell_type": "markdown",
      "source": [
        "\n",
        "\n",
        "This is generally done as an initial step after loading data to understand what the dataset looks like and to ensure the read operation worked as expected."
      ],
      "metadata": {
        "id": "bJ7s6xuCeOFV"
      }
    },
    {
      "cell_type": "code",
      "source": [
        "df3=pd.read_csv('/content/Karamoja_combined_df.csv')\n",
        "df3.head()"
      ],
      "metadata": {
        "colab": {
          "base_uri": "https://localhost:8080/",
          "height": 206
        },
        "id": "2canhXELIR1f",
        "outputId": "d925ccec-6869-4e43-d31e-cb7518a06118"
      },
      "execution_count": 16,
      "outputs": [
        {
          "output_type": "execute_result",
          "data": {
            "text/plain": [
              "      NAME     POP        Area  S_Yield_Ha  M_Yield_Ha  Crop_Area_Ha  \\\n",
              "0     ABIM   90385  2771977106       449.0      1040.0   5470.068394   \n",
              "1   AMUDAT  101790  1643582836       205.0      1297.0   5765.443719   \n",
              "2  KAABONG  627057  7373606003       279.0       945.0  28121.672530   \n",
              "3   KOTIDO  243157  3641539808       331.0      1148.0  53032.649450   \n",
              "4   MOROTO  127811  3570160948       128.0       355.0   5954.814048   \n",
              "\n",
              "      S_Area_Ha    M_Area_Ha  S_Prod_Tot  M_Prod_Tot SUBCOUNTY_NAME  \\\n",
              "0   3277.295971  1848.621855   1471506.0   1922567.0           ABIM   \n",
              "1   2973.423860  2733.661014    609552.0   3545558.0           ABIM   \n",
              "2  20544.194960  7394.416334   5731830.0   6987723.0           ABIM   \n",
              "3  50247.443900  1751.372284  16631904.0   2010575.0           ABIM   \n",
              "4   4741.748776  1190.050606    606944.0    422468.0           ABIM   \n",
              "\n",
              "  DISTRICT_NAME Karamoja  \n",
              "0       KAABONG        Y  \n",
              "1       KAABONG        Y  \n",
              "2       KAABONG        Y  \n",
              "3       KAABONG        Y  \n",
              "4       KAABONG        Y  "
            ],
            "text/html": [
              "\n",
              "  <div id=\"df-3bcb3b93-e20d-4366-be9d-ce0419654b5d\" class=\"colab-df-container\">\n",
              "    <div>\n",
              "<style scoped>\n",
              "    .dataframe tbody tr th:only-of-type {\n",
              "        vertical-align: middle;\n",
              "    }\n",
              "\n",
              "    .dataframe tbody tr th {\n",
              "        vertical-align: top;\n",
              "    }\n",
              "\n",
              "    .dataframe thead th {\n",
              "        text-align: right;\n",
              "    }\n",
              "</style>\n",
              "<table border=\"1\" class=\"dataframe\">\n",
              "  <thead>\n",
              "    <tr style=\"text-align: right;\">\n",
              "      <th></th>\n",
              "      <th>NAME</th>\n",
              "      <th>POP</th>\n",
              "      <th>Area</th>\n",
              "      <th>S_Yield_Ha</th>\n",
              "      <th>M_Yield_Ha</th>\n",
              "      <th>Crop_Area_Ha</th>\n",
              "      <th>S_Area_Ha</th>\n",
              "      <th>M_Area_Ha</th>\n",
              "      <th>S_Prod_Tot</th>\n",
              "      <th>M_Prod_Tot</th>\n",
              "      <th>SUBCOUNTY_NAME</th>\n",
              "      <th>DISTRICT_NAME</th>\n",
              "      <th>Karamoja</th>\n",
              "    </tr>\n",
              "  </thead>\n",
              "  <tbody>\n",
              "    <tr>\n",
              "      <th>0</th>\n",
              "      <td>ABIM</td>\n",
              "      <td>90385</td>\n",
              "      <td>2771977106</td>\n",
              "      <td>449.0</td>\n",
              "      <td>1040.0</td>\n",
              "      <td>5470.068394</td>\n",
              "      <td>3277.295971</td>\n",
              "      <td>1848.621855</td>\n",
              "      <td>1471506.0</td>\n",
              "      <td>1922567.0</td>\n",
              "      <td>ABIM</td>\n",
              "      <td>KAABONG</td>\n",
              "      <td>Y</td>\n",
              "    </tr>\n",
              "    <tr>\n",
              "      <th>1</th>\n",
              "      <td>AMUDAT</td>\n",
              "      <td>101790</td>\n",
              "      <td>1643582836</td>\n",
              "      <td>205.0</td>\n",
              "      <td>1297.0</td>\n",
              "      <td>5765.443719</td>\n",
              "      <td>2973.423860</td>\n",
              "      <td>2733.661014</td>\n",
              "      <td>609552.0</td>\n",
              "      <td>3545558.0</td>\n",
              "      <td>ABIM</td>\n",
              "      <td>KAABONG</td>\n",
              "      <td>Y</td>\n",
              "    </tr>\n",
              "    <tr>\n",
              "      <th>2</th>\n",
              "      <td>KAABONG</td>\n",
              "      <td>627057</td>\n",
              "      <td>7373606003</td>\n",
              "      <td>279.0</td>\n",
              "      <td>945.0</td>\n",
              "      <td>28121.672530</td>\n",
              "      <td>20544.194960</td>\n",
              "      <td>7394.416334</td>\n",
              "      <td>5731830.0</td>\n",
              "      <td>6987723.0</td>\n",
              "      <td>ABIM</td>\n",
              "      <td>KAABONG</td>\n",
              "      <td>Y</td>\n",
              "    </tr>\n",
              "    <tr>\n",
              "      <th>3</th>\n",
              "      <td>KOTIDO</td>\n",
              "      <td>243157</td>\n",
              "      <td>3641539808</td>\n",
              "      <td>331.0</td>\n",
              "      <td>1148.0</td>\n",
              "      <td>53032.649450</td>\n",
              "      <td>50247.443900</td>\n",
              "      <td>1751.372284</td>\n",
              "      <td>16631904.0</td>\n",
              "      <td>2010575.0</td>\n",
              "      <td>ABIM</td>\n",
              "      <td>KAABONG</td>\n",
              "      <td>Y</td>\n",
              "    </tr>\n",
              "    <tr>\n",
              "      <th>4</th>\n",
              "      <td>MOROTO</td>\n",
              "      <td>127811</td>\n",
              "      <td>3570160948</td>\n",
              "      <td>128.0</td>\n",
              "      <td>355.0</td>\n",
              "      <td>5954.814048</td>\n",
              "      <td>4741.748776</td>\n",
              "      <td>1190.050606</td>\n",
              "      <td>606944.0</td>\n",
              "      <td>422468.0</td>\n",
              "      <td>ABIM</td>\n",
              "      <td>KAABONG</td>\n",
              "      <td>Y</td>\n",
              "    </tr>\n",
              "  </tbody>\n",
              "</table>\n",
              "</div>\n",
              "    <div class=\"colab-df-buttons\">\n",
              "\n",
              "  <div class=\"colab-df-container\">\n",
              "    <button class=\"colab-df-convert\" onclick=\"convertToInteractive('df-3bcb3b93-e20d-4366-be9d-ce0419654b5d')\"\n",
              "            title=\"Convert this dataframe to an interactive table.\"\n",
              "            style=\"display:none;\">\n",
              "\n",
              "  <svg xmlns=\"http://www.w3.org/2000/svg\" height=\"24px\" viewBox=\"0 -960 960 960\">\n",
              "    <path d=\"M120-120v-720h720v720H120Zm60-500h600v-160H180v160Zm220 220h160v-160H400v160Zm0 220h160v-160H400v160ZM180-400h160v-160H180v160Zm440 0h160v-160H620v160ZM180-180h160v-160H180v160Zm440 0h160v-160H620v160Z\"/>\n",
              "  </svg>\n",
              "    </button>\n",
              "\n",
              "  <style>\n",
              "    .colab-df-container {\n",
              "      display:flex;\n",
              "      gap: 12px;\n",
              "    }\n",
              "\n",
              "    .colab-df-convert {\n",
              "      background-color: #E8F0FE;\n",
              "      border: none;\n",
              "      border-radius: 50%;\n",
              "      cursor: pointer;\n",
              "      display: none;\n",
              "      fill: #1967D2;\n",
              "      height: 32px;\n",
              "      padding: 0 0 0 0;\n",
              "      width: 32px;\n",
              "    }\n",
              "\n",
              "    .colab-df-convert:hover {\n",
              "      background-color: #E2EBFA;\n",
              "      box-shadow: 0px 1px 2px rgba(60, 64, 67, 0.3), 0px 1px 3px 1px rgba(60, 64, 67, 0.15);\n",
              "      fill: #174EA6;\n",
              "    }\n",
              "\n",
              "    .colab-df-buttons div {\n",
              "      margin-bottom: 4px;\n",
              "    }\n",
              "\n",
              "    [theme=dark] .colab-df-convert {\n",
              "      background-color: #3B4455;\n",
              "      fill: #D2E3FC;\n",
              "    }\n",
              "\n",
              "    [theme=dark] .colab-df-convert:hover {\n",
              "      background-color: #434B5C;\n",
              "      box-shadow: 0px 1px 3px 1px rgba(0, 0, 0, 0.15);\n",
              "      filter: drop-shadow(0px 1px 2px rgba(0, 0, 0, 0.3));\n",
              "      fill: #FFFFFF;\n",
              "    }\n",
              "  </style>\n",
              "\n",
              "    <script>\n",
              "      const buttonEl =\n",
              "        document.querySelector('#df-3bcb3b93-e20d-4366-be9d-ce0419654b5d button.colab-df-convert');\n",
              "      buttonEl.style.display =\n",
              "        google.colab.kernel.accessAllowed ? 'block' : 'none';\n",
              "\n",
              "      async function convertToInteractive(key) {\n",
              "        const element = document.querySelector('#df-3bcb3b93-e20d-4366-be9d-ce0419654b5d');\n",
              "        const dataTable =\n",
              "          await google.colab.kernel.invokeFunction('convertToInteractive',\n",
              "                                                    [key], {});\n",
              "        if (!dataTable) return;\n",
              "\n",
              "        const docLinkHtml = 'Like what you see? Visit the ' +\n",
              "          '<a target=\"_blank\" href=https://colab.research.google.com/notebooks/data_table.ipynb>data table notebook</a>'\n",
              "          + ' to learn more about interactive tables.';\n",
              "        element.innerHTML = '';\n",
              "        dataTable['output_type'] = 'display_data';\n",
              "        await google.colab.output.renderOutput(dataTable, element);\n",
              "        const docLink = document.createElement('div');\n",
              "        docLink.innerHTML = docLinkHtml;\n",
              "        element.appendChild(docLink);\n",
              "      }\n",
              "    </script>\n",
              "  </div>\n",
              "\n",
              "\n",
              "<div id=\"df-5e8ce8df-35aa-4ca6-862a-b3fea986d547\">\n",
              "  <button class=\"colab-df-quickchart\" onclick=\"quickchart('df-5e8ce8df-35aa-4ca6-862a-b3fea986d547')\"\n",
              "            title=\"Suggest charts\"\n",
              "            style=\"display:none;\">\n",
              "\n",
              "<svg xmlns=\"http://www.w3.org/2000/svg\" height=\"24px\"viewBox=\"0 0 24 24\"\n",
              "     width=\"24px\">\n",
              "    <g>\n",
              "        <path d=\"M19 3H5c-1.1 0-2 .9-2 2v14c0 1.1.9 2 2 2h14c1.1 0 2-.9 2-2V5c0-1.1-.9-2-2-2zM9 17H7v-7h2v7zm4 0h-2V7h2v10zm4 0h-2v-4h2v4z\"/>\n",
              "    </g>\n",
              "</svg>\n",
              "  </button>\n",
              "\n",
              "<style>\n",
              "  .colab-df-quickchart {\n",
              "      --bg-color: #E8F0FE;\n",
              "      --fill-color: #1967D2;\n",
              "      --hover-bg-color: #E2EBFA;\n",
              "      --hover-fill-color: #174EA6;\n",
              "      --disabled-fill-color: #AAA;\n",
              "      --disabled-bg-color: #DDD;\n",
              "  }\n",
              "\n",
              "  [theme=dark] .colab-df-quickchart {\n",
              "      --bg-color: #3B4455;\n",
              "      --fill-color: #D2E3FC;\n",
              "      --hover-bg-color: #434B5C;\n",
              "      --hover-fill-color: #FFFFFF;\n",
              "      --disabled-bg-color: #3B4455;\n",
              "      --disabled-fill-color: #666;\n",
              "  }\n",
              "\n",
              "  .colab-df-quickchart {\n",
              "    background-color: var(--bg-color);\n",
              "    border: none;\n",
              "    border-radius: 50%;\n",
              "    cursor: pointer;\n",
              "    display: none;\n",
              "    fill: var(--fill-color);\n",
              "    height: 32px;\n",
              "    padding: 0;\n",
              "    width: 32px;\n",
              "  }\n",
              "\n",
              "  .colab-df-quickchart:hover {\n",
              "    background-color: var(--hover-bg-color);\n",
              "    box-shadow: 0 1px 2px rgba(60, 64, 67, 0.3), 0 1px 3px 1px rgba(60, 64, 67, 0.15);\n",
              "    fill: var(--button-hover-fill-color);\n",
              "  }\n",
              "\n",
              "  .colab-df-quickchart-complete:disabled,\n",
              "  .colab-df-quickchart-complete:disabled:hover {\n",
              "    background-color: var(--disabled-bg-color);\n",
              "    fill: var(--disabled-fill-color);\n",
              "    box-shadow: none;\n",
              "  }\n",
              "\n",
              "  .colab-df-spinner {\n",
              "    border: 2px solid var(--fill-color);\n",
              "    border-color: transparent;\n",
              "    border-bottom-color: var(--fill-color);\n",
              "    animation:\n",
              "      spin 1s steps(1) infinite;\n",
              "  }\n",
              "\n",
              "  @keyframes spin {\n",
              "    0% {\n",
              "      border-color: transparent;\n",
              "      border-bottom-color: var(--fill-color);\n",
              "      border-left-color: var(--fill-color);\n",
              "    }\n",
              "    20% {\n",
              "      border-color: transparent;\n",
              "      border-left-color: var(--fill-color);\n",
              "      border-top-color: var(--fill-color);\n",
              "    }\n",
              "    30% {\n",
              "      border-color: transparent;\n",
              "      border-left-color: var(--fill-color);\n",
              "      border-top-color: var(--fill-color);\n",
              "      border-right-color: var(--fill-color);\n",
              "    }\n",
              "    40% {\n",
              "      border-color: transparent;\n",
              "      border-right-color: var(--fill-color);\n",
              "      border-top-color: var(--fill-color);\n",
              "    }\n",
              "    60% {\n",
              "      border-color: transparent;\n",
              "      border-right-color: var(--fill-color);\n",
              "    }\n",
              "    80% {\n",
              "      border-color: transparent;\n",
              "      border-right-color: var(--fill-color);\n",
              "      border-bottom-color: var(--fill-color);\n",
              "    }\n",
              "    90% {\n",
              "      border-color: transparent;\n",
              "      border-bottom-color: var(--fill-color);\n",
              "    }\n",
              "  }\n",
              "</style>\n",
              "\n",
              "  <script>\n",
              "    async function quickchart(key) {\n",
              "      const quickchartButtonEl =\n",
              "        document.querySelector('#' + key + ' button');\n",
              "      quickchartButtonEl.disabled = true;  // To prevent multiple clicks.\n",
              "      quickchartButtonEl.classList.add('colab-df-spinner');\n",
              "      try {\n",
              "        const charts = await google.colab.kernel.invokeFunction(\n",
              "            'suggestCharts', [key], {});\n",
              "      } catch (error) {\n",
              "        console.error('Error during call to suggestCharts:', error);\n",
              "      }\n",
              "      quickchartButtonEl.classList.remove('colab-df-spinner');\n",
              "      quickchartButtonEl.classList.add('colab-df-quickchart-complete');\n",
              "    }\n",
              "    (() => {\n",
              "      let quickchartButtonEl =\n",
              "        document.querySelector('#df-5e8ce8df-35aa-4ca6-862a-b3fea986d547 button');\n",
              "      quickchartButtonEl.style.display =\n",
              "        google.colab.kernel.accessAllowed ? 'block' : 'none';\n",
              "    })();\n",
              "  </script>\n",
              "</div>\n",
              "\n",
              "    </div>\n",
              "  </div>\n"
            ],
            "application/vnd.google.colaboratory.intrinsic+json": {
              "type": "dataframe",
              "variable_name": "df3",
              "summary": "{\n  \"name\": \"df3\",\n  \"rows\": 59,\n  \"fields\": [\n    {\n      \"column\": \"NAME\",\n      \"properties\": {\n        \"dtype\": \"category\",\n        \"num_unique_values\": 7,\n        \"samples\": [\n          \"ABIM\",\n          \"AMUDAT\",\n          \"NAKAPIRIPIRIT\"\n        ],\n        \"semantic_type\": \"\",\n        \"description\": \"\"\n      }\n    },\n    {\n      \"column\": \"POP\",\n      \"properties\": {\n        \"dtype\": \"number\",\n        \"std\": 87994,\n        \"min\": 1418,\n        \"max\": 627057,\n        \"num_unique_values\": 59,\n        \"samples\": [\n          90385,\n          146780,\n          30181\n        ],\n        \"semantic_type\": \"\",\n        \"description\": \"\"\n      }\n    },\n    {\n      \"column\": \"Area\",\n      \"properties\": {\n        \"dtype\": \"number\",\n        \"std\": 1338078795,\n        \"min\": 2121209,\n        \"max\": 7373606003,\n        \"num_unique_values\": 59,\n        \"samples\": [\n          2771977106,\n          4216323900,\n          596393139\n        ],\n        \"semantic_type\": \"\",\n        \"description\": \"\"\n      }\n    },\n    {\n      \"column\": \"S_Yield_Ha\",\n      \"properties\": {\n        \"dtype\": \"number\",\n        \"std\": 117.6244971128768,\n        \"min\": 108.1564114,\n        \"max\": 560.3130703,\n        \"num_unique_values\": 59,\n        \"samples\": [\n          449.0,\n          356.0,\n          239.0478779\n        ],\n        \"semantic_type\": \"\",\n        \"description\": \"\"\n      }\n    },\n    {\n      \"column\": \"M_Yield_Ha\",\n      \"properties\": {\n        \"dtype\": \"number\",\n        \"std\": 319.2001991472846,\n        \"min\": 0.0,\n        \"max\": 1396.991494,\n        \"num_unique_values\": 59,\n        \"samples\": [\n          1040.0,\n          1264.0,\n          1379.045945\n        ],\n        \"semantic_type\": \"\",\n        \"description\": \"\"\n      }\n    },\n    {\n      \"column\": \"Crop_Area_Ha\",\n      \"properties\": {\n        \"dtype\": \"number\",\n        \"std\": 8668.593760083504,\n        \"min\": 0.171390461,\n        \"max\": 53032.64945,\n        \"num_unique_values\": 59,\n        \"samples\": [\n          5470.068394,\n          26372.69849,\n          1651.99842\n        ],\n        \"semantic_type\": \"\",\n        \"description\": \"\"\n      }\n    },\n    {\n      \"column\": \"S_Area_Ha\",\n      \"properties\": {\n        \"dtype\": \"number\",\n        \"std\": 7654.205284010923,\n        \"min\": 0.130940756,\n        \"max\": 50247.4439,\n        \"num_unique_values\": 59,\n        \"samples\": [\n          3277.295971,\n          19237.33321,\n          676.7832664\n        ],\n        \"semantic_type\": \"\",\n        \"description\": \"\"\n      }\n    },\n    {\n      \"column\": \"M_Area_Ha\",\n      \"properties\": {\n        \"dtype\": \"number\",\n        \"std\": 1570.9178685236614,\n        \"min\": 0.0,\n        \"max\": 7394.416334,\n        \"num_unique_values\": 59,\n        \"samples\": [\n          1848.621855,\n          6425.788414,\n          972.1742459\n        ],\n        \"semantic_type\": \"\",\n        \"description\": \"\"\n      }\n    },\n    {\n      \"column\": \"S_Prod_Tot\",\n      \"properties\": {\n        \"dtype\": \"number\",\n        \"std\": 2483803.9161466323,\n        \"min\": 17.28125956,\n        \"max\": 16631904.0,\n        \"num_unique_values\": 59,\n        \"samples\": [\n          1471506.0,\n          6848491.0,\n          161783.6037\n        ],\n        \"semantic_type\": \"\",\n        \"description\": \"\"\n      }\n    },\n    {\n      \"column\": \"M_Prod_Tot\",\n      \"properties\": {\n        \"dtype\": \"number\",\n        \"std\": 1655392.8116166624,\n        \"min\": 0.0,\n        \"max\": 8122197.0,\n        \"num_unique_values\": 59,\n        \"samples\": [\n          1922567.0,\n          8122197.0,\n          1340672.952\n        ],\n        \"semantic_type\": \"\",\n        \"description\": \"\"\n      }\n    },\n    {\n      \"column\": \"SUBCOUNTY_NAME\",\n      \"properties\": {\n        \"dtype\": \"string\",\n        \"num_unique_values\": 52,\n        \"samples\": [\n          \"NAPORE (KARENGA)\",\n          \"IRIIRI\",\n          \"NGOLERIET\"\n        ],\n        \"semantic_type\": \"\",\n        \"description\": \"\"\n      }\n    },\n    {\n      \"column\": \"DISTRICT_NAME\",\n      \"properties\": {\n        \"dtype\": \"category\",\n        \"num_unique_values\": 7,\n        \"samples\": [\n          \"KAABONG\",\n          \"KOTIDO\",\n          \"NAKAPIRIPIRIT\"\n        ],\n        \"semantic_type\": \"\",\n        \"description\": \"\"\n      }\n    },\n    {\n      \"column\": \"Karamoja\",\n      \"properties\": {\n        \"dtype\": \"category\",\n        \"num_unique_values\": 1,\n        \"samples\": [\n          \"Y\"\n        ],\n        \"semantic_type\": \"\",\n        \"description\": \"\"\n      }\n    }\n  ]\n}"
            }
          },
          "metadata": {},
          "execution_count": 16
        }
      ]
    },
    {
      "cell_type": "markdown",
      "source": [
        "\n",
        "This code helps to retrieve the dimensions of the DataFrame df3. It returns a tuple representing the number of rows and columns in the DataFrame."
      ],
      "metadata": {
        "id": "q4AlyV7oev7H"
      }
    },
    {
      "cell_type": "code",
      "source": [
        "df3.shape"
      ],
      "metadata": {
        "colab": {
          "base_uri": "https://localhost:8080/"
        },
        "id": "vHiziY6sIVb1",
        "outputId": "a50c3ee5-851f-4f86-f8a3-e1b98b973b74"
      },
      "execution_count": 39,
      "outputs": [
        {
          "output_type": "execute_result",
          "data": {
            "text/plain": [
              "(59, 13)"
            ]
          },
          "metadata": {},
          "execution_count": 39
        }
      ]
    },
    {
      "cell_type": "markdown",
      "source": [
        "\n",
        "\n",
        "This code generates summary statistics of the numerical columns in the DataFrame df3.\n",
        "\n"
      ],
      "metadata": {
        "id": "7mjy1HuViltW"
      }
    },
    {
      "cell_type": "code",
      "source": [
        "df3.describe()"
      ],
      "metadata": {
        "colab": {
          "base_uri": "https://localhost:8080/",
          "height": 300
        },
        "id": "v351fp15IZVJ",
        "outputId": "a6f53add-a0c1-4439-e35a-217153b29865"
      },
      "execution_count": 40,
      "outputs": [
        {
          "output_type": "execute_result",
          "data": {
            "text/plain": [
              "                 POP          Area  S_Yield_Ha   M_Yield_Ha  Crop_Area_Ha  \\\n",
              "count      59.000000  5.900000e+01   59.000000    59.000000     59.000000   \n",
              "mean    51003.542373  9.398630e+08  273.586459   945.703334   5005.479412   \n",
              "std     87994.178609  1.338079e+09  117.624497   319.200199   8668.593760   \n",
              "min      1418.000000  2.121209e+06  108.156411     0.000000      0.171390   \n",
              "25%     16721.000000  1.901488e+08  170.240064   757.082394    998.266305   \n",
              "50%     26644.000000  4.997769e+08  279.000000  1030.064093   2008.068169   \n",
              "75%     43618.000000  1.048900e+09  361.945262  1211.009291   5616.531290   \n",
              "max    627057.000000  7.373606e+09  560.313070  1396.991494  53032.649450   \n",
              "\n",
              "          S_Area_Ha    M_Area_Ha    S_Prod_Tot    M_Prod_Tot  \n",
              "count     59.000000    59.000000  5.900000e+01  5.900000e+01  \n",
              "mean    3971.642595   945.343375  1.156108e+06  9.695461e+05  \n",
              "std     7654.205284  1570.917869  2.483804e+06  1.655393e+06  \n",
              "min        0.130941     0.000000  1.728126e+01  0.000000e+00  \n",
              "25%      533.066508    92.508396  1.466574e+05  7.862814e+04  \n",
              "50%     1550.944570   358.550335  3.397606e+05  3.069518e+05  \n",
              "75%     3216.917338   957.467889  9.664307e+05  9.700422e+05  \n",
              "max    50247.443900  7394.416334  1.663190e+07  8.122197e+06  "
            ],
            "text/html": [
              "\n",
              "  <div id=\"df-d9a60807-b088-407b-9549-caf65c0131de\" class=\"colab-df-container\">\n",
              "    <div>\n",
              "<style scoped>\n",
              "    .dataframe tbody tr th:only-of-type {\n",
              "        vertical-align: middle;\n",
              "    }\n",
              "\n",
              "    .dataframe tbody tr th {\n",
              "        vertical-align: top;\n",
              "    }\n",
              "\n",
              "    .dataframe thead th {\n",
              "        text-align: right;\n",
              "    }\n",
              "</style>\n",
              "<table border=\"1\" class=\"dataframe\">\n",
              "  <thead>\n",
              "    <tr style=\"text-align: right;\">\n",
              "      <th></th>\n",
              "      <th>POP</th>\n",
              "      <th>Area</th>\n",
              "      <th>S_Yield_Ha</th>\n",
              "      <th>M_Yield_Ha</th>\n",
              "      <th>Crop_Area_Ha</th>\n",
              "      <th>S_Area_Ha</th>\n",
              "      <th>M_Area_Ha</th>\n",
              "      <th>S_Prod_Tot</th>\n",
              "      <th>M_Prod_Tot</th>\n",
              "    </tr>\n",
              "  </thead>\n",
              "  <tbody>\n",
              "    <tr>\n",
              "      <th>count</th>\n",
              "      <td>59.000000</td>\n",
              "      <td>5.900000e+01</td>\n",
              "      <td>59.000000</td>\n",
              "      <td>59.000000</td>\n",
              "      <td>59.000000</td>\n",
              "      <td>59.000000</td>\n",
              "      <td>59.000000</td>\n",
              "      <td>5.900000e+01</td>\n",
              "      <td>5.900000e+01</td>\n",
              "    </tr>\n",
              "    <tr>\n",
              "      <th>mean</th>\n",
              "      <td>51003.542373</td>\n",
              "      <td>9.398630e+08</td>\n",
              "      <td>273.586459</td>\n",
              "      <td>945.703334</td>\n",
              "      <td>5005.479412</td>\n",
              "      <td>3971.642595</td>\n",
              "      <td>945.343375</td>\n",
              "      <td>1.156108e+06</td>\n",
              "      <td>9.695461e+05</td>\n",
              "    </tr>\n",
              "    <tr>\n",
              "      <th>std</th>\n",
              "      <td>87994.178609</td>\n",
              "      <td>1.338079e+09</td>\n",
              "      <td>117.624497</td>\n",
              "      <td>319.200199</td>\n",
              "      <td>8668.593760</td>\n",
              "      <td>7654.205284</td>\n",
              "      <td>1570.917869</td>\n",
              "      <td>2.483804e+06</td>\n",
              "      <td>1.655393e+06</td>\n",
              "    </tr>\n",
              "    <tr>\n",
              "      <th>min</th>\n",
              "      <td>1418.000000</td>\n",
              "      <td>2.121209e+06</td>\n",
              "      <td>108.156411</td>\n",
              "      <td>0.000000</td>\n",
              "      <td>0.171390</td>\n",
              "      <td>0.130941</td>\n",
              "      <td>0.000000</td>\n",
              "      <td>1.728126e+01</td>\n",
              "      <td>0.000000e+00</td>\n",
              "    </tr>\n",
              "    <tr>\n",
              "      <th>25%</th>\n",
              "      <td>16721.000000</td>\n",
              "      <td>1.901488e+08</td>\n",
              "      <td>170.240064</td>\n",
              "      <td>757.082394</td>\n",
              "      <td>998.266305</td>\n",
              "      <td>533.066508</td>\n",
              "      <td>92.508396</td>\n",
              "      <td>1.466574e+05</td>\n",
              "      <td>7.862814e+04</td>\n",
              "    </tr>\n",
              "    <tr>\n",
              "      <th>50%</th>\n",
              "      <td>26644.000000</td>\n",
              "      <td>4.997769e+08</td>\n",
              "      <td>279.000000</td>\n",
              "      <td>1030.064093</td>\n",
              "      <td>2008.068169</td>\n",
              "      <td>1550.944570</td>\n",
              "      <td>358.550335</td>\n",
              "      <td>3.397606e+05</td>\n",
              "      <td>3.069518e+05</td>\n",
              "    </tr>\n",
              "    <tr>\n",
              "      <th>75%</th>\n",
              "      <td>43618.000000</td>\n",
              "      <td>1.048900e+09</td>\n",
              "      <td>361.945262</td>\n",
              "      <td>1211.009291</td>\n",
              "      <td>5616.531290</td>\n",
              "      <td>3216.917338</td>\n",
              "      <td>957.467889</td>\n",
              "      <td>9.664307e+05</td>\n",
              "      <td>9.700422e+05</td>\n",
              "    </tr>\n",
              "    <tr>\n",
              "      <th>max</th>\n",
              "      <td>627057.000000</td>\n",
              "      <td>7.373606e+09</td>\n",
              "      <td>560.313070</td>\n",
              "      <td>1396.991494</td>\n",
              "      <td>53032.649450</td>\n",
              "      <td>50247.443900</td>\n",
              "      <td>7394.416334</td>\n",
              "      <td>1.663190e+07</td>\n",
              "      <td>8.122197e+06</td>\n",
              "    </tr>\n",
              "  </tbody>\n",
              "</table>\n",
              "</div>\n",
              "    <div class=\"colab-df-buttons\">\n",
              "\n",
              "  <div class=\"colab-df-container\">\n",
              "    <button class=\"colab-df-convert\" onclick=\"convertToInteractive('df-d9a60807-b088-407b-9549-caf65c0131de')\"\n",
              "            title=\"Convert this dataframe to an interactive table.\"\n",
              "            style=\"display:none;\">\n",
              "\n",
              "  <svg xmlns=\"http://www.w3.org/2000/svg\" height=\"24px\" viewBox=\"0 -960 960 960\">\n",
              "    <path d=\"M120-120v-720h720v720H120Zm60-500h600v-160H180v160Zm220 220h160v-160H400v160Zm0 220h160v-160H400v160ZM180-400h160v-160H180v160Zm440 0h160v-160H620v160ZM180-180h160v-160H180v160Zm440 0h160v-160H620v160Z\"/>\n",
              "  </svg>\n",
              "    </button>\n",
              "\n",
              "  <style>\n",
              "    .colab-df-container {\n",
              "      display:flex;\n",
              "      gap: 12px;\n",
              "    }\n",
              "\n",
              "    .colab-df-convert {\n",
              "      background-color: #E8F0FE;\n",
              "      border: none;\n",
              "      border-radius: 50%;\n",
              "      cursor: pointer;\n",
              "      display: none;\n",
              "      fill: #1967D2;\n",
              "      height: 32px;\n",
              "      padding: 0 0 0 0;\n",
              "      width: 32px;\n",
              "    }\n",
              "\n",
              "    .colab-df-convert:hover {\n",
              "      background-color: #E2EBFA;\n",
              "      box-shadow: 0px 1px 2px rgba(60, 64, 67, 0.3), 0px 1px 3px 1px rgba(60, 64, 67, 0.15);\n",
              "      fill: #174EA6;\n",
              "    }\n",
              "\n",
              "    .colab-df-buttons div {\n",
              "      margin-bottom: 4px;\n",
              "    }\n",
              "\n",
              "    [theme=dark] .colab-df-convert {\n",
              "      background-color: #3B4455;\n",
              "      fill: #D2E3FC;\n",
              "    }\n",
              "\n",
              "    [theme=dark] .colab-df-convert:hover {\n",
              "      background-color: #434B5C;\n",
              "      box-shadow: 0px 1px 3px 1px rgba(0, 0, 0, 0.15);\n",
              "      filter: drop-shadow(0px 1px 2px rgba(0, 0, 0, 0.3));\n",
              "      fill: #FFFFFF;\n",
              "    }\n",
              "  </style>\n",
              "\n",
              "    <script>\n",
              "      const buttonEl =\n",
              "        document.querySelector('#df-d9a60807-b088-407b-9549-caf65c0131de button.colab-df-convert');\n",
              "      buttonEl.style.display =\n",
              "        google.colab.kernel.accessAllowed ? 'block' : 'none';\n",
              "\n",
              "      async function convertToInteractive(key) {\n",
              "        const element = document.querySelector('#df-d9a60807-b088-407b-9549-caf65c0131de');\n",
              "        const dataTable =\n",
              "          await google.colab.kernel.invokeFunction('convertToInteractive',\n",
              "                                                    [key], {});\n",
              "        if (!dataTable) return;\n",
              "\n",
              "        const docLinkHtml = 'Like what you see? Visit the ' +\n",
              "          '<a target=\"_blank\" href=https://colab.research.google.com/notebooks/data_table.ipynb>data table notebook</a>'\n",
              "          + ' to learn more about interactive tables.';\n",
              "        element.innerHTML = '';\n",
              "        dataTable['output_type'] = 'display_data';\n",
              "        await google.colab.output.renderOutput(dataTable, element);\n",
              "        const docLink = document.createElement('div');\n",
              "        docLink.innerHTML = docLinkHtml;\n",
              "        element.appendChild(docLink);\n",
              "      }\n",
              "    </script>\n",
              "  </div>\n",
              "\n",
              "\n",
              "<div id=\"df-558ff373-5404-44fc-879d-eac55bf361b4\">\n",
              "  <button class=\"colab-df-quickchart\" onclick=\"quickchart('df-558ff373-5404-44fc-879d-eac55bf361b4')\"\n",
              "            title=\"Suggest charts\"\n",
              "            style=\"display:none;\">\n",
              "\n",
              "<svg xmlns=\"http://www.w3.org/2000/svg\" height=\"24px\"viewBox=\"0 0 24 24\"\n",
              "     width=\"24px\">\n",
              "    <g>\n",
              "        <path d=\"M19 3H5c-1.1 0-2 .9-2 2v14c0 1.1.9 2 2 2h14c1.1 0 2-.9 2-2V5c0-1.1-.9-2-2-2zM9 17H7v-7h2v7zm4 0h-2V7h2v10zm4 0h-2v-4h2v4z\"/>\n",
              "    </g>\n",
              "</svg>\n",
              "  </button>\n",
              "\n",
              "<style>\n",
              "  .colab-df-quickchart {\n",
              "      --bg-color: #E8F0FE;\n",
              "      --fill-color: #1967D2;\n",
              "      --hover-bg-color: #E2EBFA;\n",
              "      --hover-fill-color: #174EA6;\n",
              "      --disabled-fill-color: #AAA;\n",
              "      --disabled-bg-color: #DDD;\n",
              "  }\n",
              "\n",
              "  [theme=dark] .colab-df-quickchart {\n",
              "      --bg-color: #3B4455;\n",
              "      --fill-color: #D2E3FC;\n",
              "      --hover-bg-color: #434B5C;\n",
              "      --hover-fill-color: #FFFFFF;\n",
              "      --disabled-bg-color: #3B4455;\n",
              "      --disabled-fill-color: #666;\n",
              "  }\n",
              "\n",
              "  .colab-df-quickchart {\n",
              "    background-color: var(--bg-color);\n",
              "    border: none;\n",
              "    border-radius: 50%;\n",
              "    cursor: pointer;\n",
              "    display: none;\n",
              "    fill: var(--fill-color);\n",
              "    height: 32px;\n",
              "    padding: 0;\n",
              "    width: 32px;\n",
              "  }\n",
              "\n",
              "  .colab-df-quickchart:hover {\n",
              "    background-color: var(--hover-bg-color);\n",
              "    box-shadow: 0 1px 2px rgba(60, 64, 67, 0.3), 0 1px 3px 1px rgba(60, 64, 67, 0.15);\n",
              "    fill: var(--button-hover-fill-color);\n",
              "  }\n",
              "\n",
              "  .colab-df-quickchart-complete:disabled,\n",
              "  .colab-df-quickchart-complete:disabled:hover {\n",
              "    background-color: var(--disabled-bg-color);\n",
              "    fill: var(--disabled-fill-color);\n",
              "    box-shadow: none;\n",
              "  }\n",
              "\n",
              "  .colab-df-spinner {\n",
              "    border: 2px solid var(--fill-color);\n",
              "    border-color: transparent;\n",
              "    border-bottom-color: var(--fill-color);\n",
              "    animation:\n",
              "      spin 1s steps(1) infinite;\n",
              "  }\n",
              "\n",
              "  @keyframes spin {\n",
              "    0% {\n",
              "      border-color: transparent;\n",
              "      border-bottom-color: var(--fill-color);\n",
              "      border-left-color: var(--fill-color);\n",
              "    }\n",
              "    20% {\n",
              "      border-color: transparent;\n",
              "      border-left-color: var(--fill-color);\n",
              "      border-top-color: var(--fill-color);\n",
              "    }\n",
              "    30% {\n",
              "      border-color: transparent;\n",
              "      border-left-color: var(--fill-color);\n",
              "      border-top-color: var(--fill-color);\n",
              "      border-right-color: var(--fill-color);\n",
              "    }\n",
              "    40% {\n",
              "      border-color: transparent;\n",
              "      border-right-color: var(--fill-color);\n",
              "      border-top-color: var(--fill-color);\n",
              "    }\n",
              "    60% {\n",
              "      border-color: transparent;\n",
              "      border-right-color: var(--fill-color);\n",
              "    }\n",
              "    80% {\n",
              "      border-color: transparent;\n",
              "      border-right-color: var(--fill-color);\n",
              "      border-bottom-color: var(--fill-color);\n",
              "    }\n",
              "    90% {\n",
              "      border-color: transparent;\n",
              "      border-bottom-color: var(--fill-color);\n",
              "    }\n",
              "  }\n",
              "</style>\n",
              "\n",
              "  <script>\n",
              "    async function quickchart(key) {\n",
              "      const quickchartButtonEl =\n",
              "        document.querySelector('#' + key + ' button');\n",
              "      quickchartButtonEl.disabled = true;  // To prevent multiple clicks.\n",
              "      quickchartButtonEl.classList.add('colab-df-spinner');\n",
              "      try {\n",
              "        const charts = await google.colab.kernel.invokeFunction(\n",
              "            'suggestCharts', [key], {});\n",
              "      } catch (error) {\n",
              "        console.error('Error during call to suggestCharts:', error);\n",
              "      }\n",
              "      quickchartButtonEl.classList.remove('colab-df-spinner');\n",
              "      quickchartButtonEl.classList.add('colab-df-quickchart-complete');\n",
              "    }\n",
              "    (() => {\n",
              "      let quickchartButtonEl =\n",
              "        document.querySelector('#df-558ff373-5404-44fc-879d-eac55bf361b4 button');\n",
              "      quickchartButtonEl.style.display =\n",
              "        google.colab.kernel.accessAllowed ? 'block' : 'none';\n",
              "    })();\n",
              "  </script>\n",
              "</div>\n",
              "\n",
              "    </div>\n",
              "  </div>\n"
            ],
            "application/vnd.google.colaboratory.intrinsic+json": {
              "type": "dataframe",
              "summary": "{\n  \"name\": \"df3\",\n  \"rows\": 8,\n  \"fields\": [\n    {\n      \"column\": \"POP\",\n      \"properties\": {\n        \"dtype\": \"number\",\n        \"std\": 212187.3938331097,\n        \"min\": 59.0,\n        \"max\": 627057.0,\n        \"num_unique_values\": 8,\n        \"samples\": [\n          51003.542372881355,\n          26644.0,\n          59.0\n        ],\n        \"semantic_type\": \"\",\n        \"description\": \"\"\n      }\n    },\n    {\n      \"column\": \"Area\",\n      \"properties\": {\n        \"dtype\": \"number\",\n        \"std\": 2455500393.4084997,\n        \"min\": 59.0,\n        \"max\": 7373606003.0,\n        \"num_unique_values\": 8,\n        \"samples\": [\n          939863014.6440678,\n          499776866.0,\n          59.0\n        ],\n        \"semantic_type\": \"\",\n        \"description\": \"\"\n      }\n    },\n    {\n      \"column\": \"S_Yield_Ha\",\n      \"properties\": {\n        \"dtype\": \"number\",\n        \"std\": 164.7916162822833,\n        \"min\": 59.0,\n        \"max\": 560.3130703,\n        \"num_unique_values\": 8,\n        \"samples\": [\n          273.58645873050847,\n          279.0,\n          59.0\n        ],\n        \"semantic_type\": \"\",\n        \"description\": \"\"\n      }\n    },\n    {\n      \"column\": \"M_Yield_Ha\",\n      \"properties\": {\n        \"dtype\": \"number\",\n        \"std\": 529.6381949519945,\n        \"min\": 0.0,\n        \"max\": 1396.991494,\n        \"num_unique_values\": 8,\n        \"samples\": [\n          945.7033341881355,\n          1030.064093,\n          59.0\n        ],\n        \"semantic_type\": \"\",\n        \"description\": \"\"\n      }\n    },\n    {\n      \"column\": \"Crop_Area_Ha\",\n      \"properties\": {\n        \"dtype\": \"number\",\n        \"std\": 17883.775129507514,\n        \"min\": 0.171390461,\n        \"max\": 53032.64945,\n        \"num_unique_values\": 8,\n        \"samples\": [\n          5005.47941207878,\n          2008.068169,\n          59.0\n        ],\n        \"semantic_type\": \"\",\n        \"description\": \"\"\n      }\n    },\n    {\n      \"column\": \"S_Area_Ha\",\n      \"properties\": {\n        \"dtype\": \"number\",\n        \"std\": 17101.24310830697,\n        \"min\": 0.130940756,\n        \"max\": 50247.4439,\n        \"num_unique_values\": 8,\n        \"samples\": [\n          3971.6425952107797,\n          1550.94457,\n          59.0\n        ],\n        \"semantic_type\": \"\",\n        \"description\": \"\"\n      }\n    },\n    {\n      \"column\": \"M_Area_Ha\",\n      \"properties\": {\n        \"dtype\": \"number\",\n        \"std\": 2475.9774556675247,\n        \"min\": 0.0,\n        \"max\": 7394.416334,\n        \"num_unique_values\": 8,\n        \"samples\": [\n          945.3433753571694,\n          358.5503345,\n          59.0\n        ],\n        \"semantic_type\": \"\",\n        \"description\": \"\"\n      }\n    },\n    {\n      \"column\": \"S_Prod_Tot\",\n      \"properties\": {\n        \"dtype\": \"number\",\n        \"std\": 5684584.233123522,\n        \"min\": 17.28125956,\n        \"max\": 16631904.0,\n        \"num_unique_values\": 8,\n        \"samples\": [\n          1156108.2679775935,\n          339760.6153,\n          59.0\n        ],\n        \"semantic_type\": \"\",\n        \"description\": \"\"\n      }\n    },\n    {\n      \"column\": \"M_Prod_Tot\",\n      \"properties\": {\n        \"dtype\": \"number\",\n        \"std\": 2735534.427039221,\n        \"min\": 0.0,\n        \"max\": 8122197.0,\n        \"num_unique_values\": 8,\n        \"samples\": [\n          969546.082251045,\n          306951.8167,\n          59.0\n        ],\n        \"semantic_type\": \"\",\n        \"description\": \"\"\n      }\n    }\n  ]\n}"
            }
          },
          "metadata": {},
          "execution_count": 40
        }
      ]
    },
    {
      "cell_type": "markdown",
      "source": [
        "\n",
        "\n",
        "This code provide a concise summary of the DataFrame df3. This method displays information such as:\n",
        "\n",
        " 1.Number of rows and columns: The total size of the DataFrame.\n",
        "\n",
        " 2.Column names: All the column names in the DataFrame.\n",
        "\n",
        "3.Non-null count: The number of non-null (non-missing) entries in each column.\n",
        "\n",
        " 4.Data types: The data type of each column (e.g., int64, float64, object, etc.).\n",
        "\n",
        " 5.Memory usage: The amount of memory used by the DataFrame.\n",
        "\n",
        "This method is helpful for quickly understanding the structure of the DataFrame, identifying missing values, and determining data types. It's often used in the initial stages of data analysis."
      ],
      "metadata": {
        "id": "P_4l8WCXi93O"
      }
    },
    {
      "cell_type": "code",
      "source": [
        "df3.info()"
      ],
      "metadata": {
        "colab": {
          "base_uri": "https://localhost:8080/"
        },
        "id": "TVqpfZyTIxnG",
        "outputId": "cd7725e8-046e-4e48-c441-c03e4d740fa4"
      },
      "execution_count": 41,
      "outputs": [
        {
          "output_type": "stream",
          "name": "stdout",
          "text": [
            "<class 'pandas.core.frame.DataFrame'>\n",
            "RangeIndex: 59 entries, 0 to 58\n",
            "Data columns (total 13 columns):\n",
            " #   Column          Non-Null Count  Dtype  \n",
            "---  ------          --------------  -----  \n",
            " 0   NAME            59 non-null     object \n",
            " 1   POP             59 non-null     int64  \n",
            " 2   Area            59 non-null     int64  \n",
            " 3   S_Yield_Ha      59 non-null     float64\n",
            " 4   M_Yield_Ha      59 non-null     float64\n",
            " 5   Crop_Area_Ha    59 non-null     float64\n",
            " 6   S_Area_Ha       59 non-null     float64\n",
            " 7   M_Area_Ha       59 non-null     float64\n",
            " 8   S_Prod_Tot      59 non-null     float64\n",
            " 9   M_Prod_Tot      59 non-null     float64\n",
            " 10  SUBCOUNTY_NAME  59 non-null     object \n",
            " 11  DISTRICT_NAME   59 non-null     object \n",
            " 12  Karamoja        59 non-null     object \n",
            "dtypes: float64(7), int64(2), object(4)\n",
            "memory usage: 6.1+ KB\n"
          ]
        }
      ]
    },
    {
      "cell_type": "markdown",
      "source": [
        "**RECOMMENDATIONS**"
      ],
      "metadata": {
        "id": "Q-3SPAySjnFz"
      }
    },
    {
      "cell_type": "markdown",
      "source": [
        "\n",
        "1. Data Quality: Ensure the reliability and accuracy of the data source\n",
        "\n",
        "\n",
        "2. External Factors: Consider external factors (e.g., climate change, policy changes) that might influence crop yields.\n",
        "\n",
        "3. Data Privacy: Handle sensitive data (e.g., personal information) ethically and in compliance with regulations.\n",
        "\n",
        "By following these recommendations, you can gain valuable insights into the relationship between crop yields, population, and other factors in the Karamoja region, which can inform policy decisions and agricultural development efforts."
      ],
      "metadata": {
        "id": "LtlQa7SGmFKz"
      }
    }
  ]
}